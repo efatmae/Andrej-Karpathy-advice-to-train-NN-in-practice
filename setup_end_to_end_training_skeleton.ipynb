{
  "nbformat": 4,
  "nbformat_minor": 0,
  "metadata": {
    "kernelspec": {
      "display_name": "Python 3",
      "language": "python",
      "name": "python3"
    },
    "language_info": {
      "codemirror_mode": {
        "name": "ipython",
        "version": 3
      },
      "file_extension": ".py",
      "mimetype": "text/x-python",
      "name": "python",
      "nbconvert_exporter": "python",
      "pygments_lexer": "ipython3",
      "version": "3.6.9"
    },
    "colab": {
      "name": "setup end to end training skeleton.ipynb",
      "provenance": [],
      "include_colab_link": true
    }
  },
  "cells": [
    {
      "cell_type": "markdown",
      "metadata": {
        "id": "view-in-github",
        "colab_type": "text"
      },
      "source": [
        "<a href=\"https://colab.research.google.com/github/efatmae/Andrej-Karpathy-advice-to-train-NN-in-practice/blob/main/setup_end_to_end_training_skeleton.ipynb\" target=\"_parent\"><img src=\"https://colab.research.google.com/assets/colab-badge.svg\" alt=\"Open In Colab\"/></a>"
      ]
    },
    {
      "cell_type": "markdown",
      "metadata": {
        "id": "1hT1u0Q_exCQ"
      },
      "source": [
        "## This notebook is an implementation attempt to reflect the first advice among 5 advices that Andrej Karpathy explanined in his post \"A recipe for training neural networks.\" http://karpathy.github.io/2019/04/25/recipe/\n",
        "\n",
        "##This is the second of a series of notebooks to follow these advices in practice. \n",
        "\n",
        "##sources: \n",
        "\n",
        "1.   https://gist.github.com/pgsrv/fdeea37fe316efa331334839d1028907\n",
        "2.   https://github.com/howardyclo/papernotes/issues/56\n",
        "\n",
        "\n",
        "### In this notebook we follow the following advices:\n",
        "1. Establish baselines and visualize the train/eval metrics.\n",
        "2. Fix random seed and run code twice to ensure to get the same results.\n",
        "3. Disable any unnecessary fanciness, e.g., data augmentation.\n",
        "4. Plot test losses of entire data instead of only batches.\n",
        "5. Ensure the loss started with right value, e.g., -log(1/n_classes).\n",
        "6. Visualize the fixed test batch to see the \"dynamics\" of how model learns (be aware of very low or very high learning rates).\n",
        "7. Be aware of view and transpose/permute.\n",
        "8. Write simple code that can work first and refactor to more generalizable version later.\n"
      ]
    },
    {
      "cell_type": "code",
      "metadata": {
        "id": "c6g1PI-dexCR"
      },
      "source": [
        "from keras.datasets import imdb\n",
        "import pandas as pd\n",
        "import matplotlib.pyplot as plt\n",
        "import numpy as np\n",
        "from sklearn.manifold import TSNE\n",
        "from tensorflow.keras.preprocessing.text import Tokenizer\n",
        "import tensorflow as tf\n",
        "from tensorflow import keras\n",
        "import nltk\n",
        "#nltk.download('punkt')\n",
        "import sys\n",
        "import codecs\n",
        "import nltk\n",
        "from nltk.corpus import stopwords\n",
        "from torch import nn\n",
        "from sklearn.model_selection import *\n",
        "from sklearn.linear_model import *\n",
        "from tensorflow.keras.preprocessing.sequence import pad_sequences\n",
        "from keras.layers import Dense, Embedding, Flatten\n",
        "from keras.models import Sequential\n",
        "from sklearn.metrics import roc_auc_score,f1_score, log_loss\n",
        "import numpy as np\n",
        "from sklearn.feature_extraction.text import TfidfVectorizer, TfidfTransformer\n",
        "from sklearn.feature_extraction.text import CountVectorizer"
      ],
      "execution_count": null,
      "outputs": []
    },
    {
      "cell_type": "code",
      "metadata": {
        "id": "o8UqCXGOexCW"
      },
      "source": [
        "METRICS = [\n",
        "      keras.metrics.TruePositives(name='tp'),\n",
        "      keras.metrics.FalsePositives(name='fp'),\n",
        "      keras.metrics.TrueNegatives(name='tn'),\n",
        "      keras.metrics.FalseNegatives(name='fn'), \n",
        "      keras.metrics.BinaryAccuracy(name='accuracy'),\n",
        "      keras.metrics.Precision(name='precision'),\n",
        "      keras.metrics.Recall(name='recall'),\n",
        "      keras.metrics.AUC(name='auc'),\n",
        "]"
      ],
      "execution_count": null,
      "outputs": []
    },
    {
      "cell_type": "code",
      "metadata": {
        "id": "HAKspZwIexCa"
      },
      "source": [
        "batch_size, epochs, lr = 16, 10, 0.01"
      ],
      "execution_count": null,
      "outputs": []
    },
    {
      "cell_type": "code",
      "metadata": {
        "id": "yTGu6SDHexCf"
      },
      "source": [
        "## read IMDB data\n",
        "data_df = pd.read_csv(\"Data/IMDB.csv\", index_col=False)"
      ],
      "execution_count": null,
      "outputs": []
    },
    {
      "cell_type": "code",
      "metadata": {
        "id": "afNCuNexexCj",
        "outputId": "d24eb66b-5cbd-4a4b-dc9b-b00da3a39ed0"
      },
      "source": [
        "(training_data, training_targets), (testing_data, testing_targets) = imdb.load_data(num_words=10000)\n",
        "data = np.concatenate((training_data, testing_data), axis=0)\n",
        "targets = np.concatenate((training_targets, testing_targets), axis=0)"
      ],
      "execution_count": null,
      "outputs": [
        {
          "output_type": "stream",
          "text": [
            "/home/fatma/.local/lib/python3.6/site-packages/keras/datasets/imdb.py:101: VisibleDeprecationWarning: Creating an ndarray from ragged nested sequences (which is a list-or-tuple of lists-or-tuples-or ndarrays with different lengths or shapes) is deprecated. If you meant to do this, you must specify 'dtype=object' when creating the ndarray\n",
            "  x_train, y_train = np.array(xs[:idx]), np.array(labels[:idx])\n",
            "/home/fatma/.local/lib/python3.6/site-packages/keras/datasets/imdb.py:102: VisibleDeprecationWarning: Creating an ndarray from ragged nested sequences (which is a list-or-tuple of lists-or-tuples-or ndarrays with different lengths or shapes) is deprecated. If you meant to do this, you must specify 'dtype=object' when creating the ndarray\n",
            "  x_test, y_test = np.array(xs[idx:]), np.array(labels[idx:])\n"
          ],
          "name": "stderr"
        }
      ]
    },
    {
      "cell_type": "code",
      "metadata": {
        "id": "MuxPRNRkexCp"
      },
      "source": [
        "seed = 42\n",
        "\n",
        "X_train, X_test, y_train, y_test = train_test_split(data, targets, test_size=0.5, random_state=seed)"
      ],
      "execution_count": null,
      "outputs": []
    },
    {
      "cell_type": "code",
      "metadata": {
        "id": "V96r1c3WexC8"
      },
      "source": [
        "X_train, X_valid, y_train, y_valid = train_test_split(X_train, y_train, test_size=0.5, random_state=seed)"
      ],
      "execution_count": null,
      "outputs": []
    },
    {
      "cell_type": "code",
      "metadata": {
        "id": "8sO6HQJ3exDA"
      },
      "source": [
        "from tensorflow.keras.preprocessing.text import Tokenizer\n",
        "  # Tokenize and transform to integer index\n",
        "tokenizer = Tokenizer(num_words=10000)\n",
        "tokenizer.fit_on_texts(data_df[\"data_text\"])\n",
        "vocab_size = len(tokenizer.word_index) + 1\n"
      ],
      "execution_count": null,
      "outputs": []
    },
    {
      "cell_type": "code",
      "metadata": {
        "id": "6sJCj8euexDC"
      },
      "source": [
        "max_sequence_length = 1000\n",
        "X_train = pad_sequences(X_train, maxlen=max_sequence_length, value = 0.0) # 0.0 because it corresponds with <PAD>\n",
        "X_valid = pad_sequences(X_valid, maxlen=max_sequence_length, value = 0.0) # 0.0 because it corresponds with <PAD>\n",
        "X_test = pad_sequences(X_test, maxlen=max_sequence_length, value = 0.0) # 0.0 because it corresponds with <PAD>"
      ],
      "execution_count": null,
      "outputs": []
    },
    {
      "cell_type": "code",
      "metadata": {
        "id": "-6gBU9HPexDF",
        "outputId": "49c6c3de-9ba2-4732-a7da-42eee3812a16"
      },
      "source": [
        "X_train.shape"
      ],
      "execution_count": null,
      "outputs": [
        {
          "output_type": "execute_result",
          "data": {
            "text/plain": [
              "(12500, 10000)"
            ]
          },
          "metadata": {
            "tags": []
          },
          "execution_count": 386
        }
      ]
    },
    {
      "cell_type": "code",
      "metadata": {
        "id": "uL1xXdJXexDI",
        "outputId": "92ac23ad-6634-49f4-eec3-437e20644001"
      },
      "source": [
        "import keras \n",
        "from keras.regularizers import l1_l2\n",
        "\n",
        "#reg = l1_l2(l2=0.00000001)\n",
        "\n",
        "emb_model = Sequential()\n",
        "emb_model.add(Embedding(vocab_size, 128, input_length=max_sequence_length))#, embeddings_regularizer=l1_l2(l2=1e-50\n",
        "emb_model.add(Flatten())\n",
        "emb_model.add(Dense(1, activation = 'sigmoid'))#W_regularizer=reg\n",
        "#rmsprop\n",
        "emb_model.compile(optimizer=\"sgd\", loss='binary_crossentropy', metrics=METRICS)\n",
        "\n",
        "training_history = emb_model.fit(\n",
        "  X_train,\n",
        "  y_train,\n",
        "  epochs = 100,\n",
        "    validation_data = [X_valid, y_valid]\n",
        ")"
      ],
      "execution_count": null,
      "outputs": [
        {
          "output_type": "stream",
          "text": [
            "Train on 12500 samples, validate on 12500 samples\n",
            "Epoch 1/100\n",
            "12500/12500 [==============================] - 14s 1ms/step - loss: 0.6999 - tp: 13915948.0000 - fp: 3766150.5000 - tn: 13159281.0000 - fn: 2835838.7500 - accuracy: 0.8039 - precision: 0.7870 - recall: 0.8307 - auc: 0.8913 - val_loss: 0.6924 - val_tp: 13917568.0000 - val_fp: 3767640.5000 - val_tn: 13164091.0000 - val_fn: 2840433.0000 - val_accuracy: 0.8038 - val_precision: 0.7870 - val_recall: 0.8305 - val_auc: 0.8912\n",
            "Epoch 2/100\n",
            "12500/12500 [==============================] - 12s 993us/step - loss: 0.6903 - tp: 13919999.0000 - fp: 3769648.0000 - tn: 13168352.0000 - fn: 2844237.5000 - accuracy: 0.8037 - precision: 0.7869 - recall: 0.8303 - auc: 0.8911 - val_loss: 0.6918 - val_tp: 13921884.0000 - val_fp: 3770764.5000 - val_tn: 13173541.0000 - val_fn: 2848532.2500 - val_accuracy: 0.8036 - val_precision: 0.7869 - val_recall: 0.8301 - val_auc: 0.8911\n",
            "Epoch 3/100\n",
            "12500/12500 [==============================] - 13s 1ms/step - loss: 0.6877 - tp: 13924030.0000 - fp: 3771665.0000 - tn: 13178925.0000 - fn: 2852599.5000 - accuracy: 0.8036 - precision: 0.7869 - recall: 0.8300 - auc: 0.8910 - val_loss: 0.6912 - val_tp: 13928732.0000 - val_fp: 3774758.2500 - val_tn: 13182112.0000 - val_fn: 2854124.0000 - val_accuracy: 0.8035 - val_precision: 0.7868 - val_recall: 0.8299 - val_auc: 0.8910\n",
            "Epoch 4/100\n",
            "12500/12500 [==============================] - 13s 1ms/step - loss: 0.6849 - tp: 13933725.0000 - fp: 3777926.2500 - tn: 13185194.0000 - fn: 2855376.7500 - accuracy: 0.8034 - precision: 0.7867 - recall: 0.8299 - auc: 0.8909 - val_loss: 0.6903 - val_tp: 13937677.0000 - val_fp: 3779901.7500 - val_tn: 13189540.0000 - val_fn: 2857609.7500 - val_accuracy: 0.8034 - val_precision: 0.7867 - val_recall: 0.8299 - val_auc: 0.8909\n",
            "Epoch 5/100\n",
            "12500/12500 [==============================] - 13s 1ms/step - loss: 0.6821 - tp: 13941452.0000 - fp: 3781669.7500 - tn: 13194053.0000 - fn: 2860051.7500 - accuracy: 0.8033 - precision: 0.7866 - recall: 0.8298 - auc: 0.8908 - val_loss: 0.6894 - val_tp: 13945831.0000 - val_fp: 3784067.2500 - val_tn: 13197930.0000 - val_fn: 2861892.0000 - val_accuracy: 0.8033 - val_precision: 0.7866 - val_recall: 0.8297 - val_auc: 0.8908\n",
            "Epoch 6/100\n",
            "12500/12500 [==============================] - 13s 1ms/step - loss: 0.6787 - tp: 13949571.0000 - fp: 3785886.0000 - tn: 13202399.0000 - fn: 2864360.0000 - accuracy: 0.8032 - precision: 0.7865 - recall: 0.8296 - auc: 0.8907 - val_loss: 0.6882 - val_tp: 13953485.0000 - val_fp: 3787995.0000 - val_tn: 13206563.0000 - val_fn: 2866677.2500 - val_accuracy: 0.8032 - val_precision: 0.7865 - val_recall: 0.8296 - val_auc: 0.8907\n",
            "Epoch 7/100\n",
            "12500/12500 [==============================] - 13s 1ms/step - loss: 0.6758 - tp: 13957611.0000 - fp: 3790024.0000 - tn: 13210788.0000 - fn: 2868798.7500 - accuracy: 0.8031 - precision: 0.7864 - recall: 0.8295 - auc: 0.8907 - val_loss: 0.6871 - val_tp: 13962177.0000 - val_fp: 3792601.2500 - val_tn: 13214529.0000 - val_fn: 2870419.7500 - val_accuracy: 0.8031 - val_precision: 0.7864 - val_recall: 0.8295 - val_auc: 0.8906\n",
            "Epoch 8/100\n",
            "12500/12500 [==============================] - 13s 1ms/step - loss: 0.6721 - tp: 13967482.0000 - fp: 3795878.2500 - tn: 13217488.0000 - fn: 2871361.5000 - accuracy: 0.8030 - precision: 0.7863 - recall: 0.8295 - auc: 0.8906 - val_loss: 0.6853 - val_tp: 13970442.0000 - val_fp: 3797104.0000 - val_tn: 13222589.0000 - val_fn: 2874571.2500 - val_accuracy: 0.8030 - val_precision: 0.7863 - val_recall: 0.8294 - val_auc: 0.8905\n",
            "Epoch 9/100\n",
            "12500/12500 [==============================] - 13s 1ms/step - loss: 0.6685 - tp: 13973725.0000 - fp: 3798460.5000 - tn: 13227483.0000 - fn: 2877550.2500 - accuracy: 0.8029 - precision: 0.7863 - recall: 0.8292 - auc: 0.8905 - val_loss: 0.6834 - val_tp: 13978189.0000 - val_fp: 3800739.7500 - val_tn: 13231522.0000 - val_fn: 2879273.5000 - val_accuracy: 0.8029 - val_precision: 0.7862 - val_recall: 0.8292 - val_auc: 0.8904\n",
            "Epoch 10/100\n",
            "12500/12500 [==============================] - 13s 1ms/step - loss: 0.6641 - tp: 13982956.0000 - fp: 3803232.5000 - tn: 13235286.0000 - fn: 2880754.5000 - accuracy: 0.8028 - precision: 0.7862 - recall: 0.8292 - auc: 0.8904 - val_loss: 0.6814 - val_tp: 13987539.0000 - val_fp: 3805603.7500 - val_tn: 13239219.0000 - val_fn: 2882362.5000 - val_accuracy: 0.8028 - val_precision: 0.7861 - val_recall: 0.8291 - val_auc: 0.8903\n",
            "Epoch 11/100\n",
            "12500/12500 [==============================] - 13s 1ms/step - loss: 0.6595 - tp: 13992190.0000 - fp: 3807926.0000 - tn: 13243198.0000 - fn: 2883916.0000 - accuracy: 0.8027 - precision: 0.7861 - recall: 0.8291 - auc: 0.8903 - val_loss: 0.6792 - val_tp: 13997231.0000 - val_fp: 3810864.7500 - val_tn: 13246532.0000 - val_fn: 2885099.7500 - val_accuracy: 0.8027 - val_precision: 0.7860 - val_recall: 0.8291 - val_auc: 0.8903\n",
            "Epoch 12/100\n",
            "12500/12500 [==============================] - 13s 1ms/step - loss: 0.6545 - tp: 14002421.0000 - fp: 3813879.5000 - tn: 13249774.0000 - fn: 2886153.2500 - accuracy: 0.8026 - precision: 0.7859 - recall: 0.8291 - auc: 0.8902 - val_loss: 0.6754 - val_tp: 14007000.0000 - val_fp: 3816243.5000 - val_tn: 13253708.0000 - val_fn: 2887769.2500 - val_accuracy: 0.8026 - val_precision: 0.7859 - val_recall: 0.8291 - val_auc: 0.8902\n",
            "Epoch 13/100\n",
            "12500/12500 [==============================] - 13s 1ms/step - loss: 0.6488 - tp: 14011543.0000 - fp: 3818504.2500 - tn: 13257750.0000 - fn: 2889430.7500 - accuracy: 0.8025 - precision: 0.7858 - recall: 0.8290 - auc: 0.8901 - val_loss: 0.6720 - val_tp: 14016047.0000 - val_fp: 3820743.7500 - val_tn: 13261773.0000 - val_fn: 2891162.2500 - val_accuracy: 0.8025 - val_precision: 0.7858 - val_recall: 0.8290 - val_auc: 0.8901\n",
            "Epoch 14/100\n",
            "12500/12500 [==============================] - 13s 1ms/step - loss: 0.6426 - tp: 14020666.0000 - fp: 3823080.7500 - tn: 13265673.0000 - fn: 2892801.2500 - accuracy: 0.8025 - precision: 0.7857 - recall: 0.8290 - auc: 0.8901 - val_loss: 0.6676 - val_tp: 14024552.0000 - val_fp: 3824728.0000 - val_tn: 13270356.0000 - val_fn: 2895095.7500 - val_accuracy: 0.8024 - val_precision: 0.7857 - val_recall: 0.8289 - val_auc: 0.8900\n",
            "Epoch 15/100\n",
            "12500/12500 [==============================] - 13s 1ms/step - loss: 0.6363 - tp: 14028533.0000 - fp: 3826421.2500 - tn: 13274944.0000 - fn: 2897329.5000 - accuracy: 0.8024 - precision: 0.7857 - recall: 0.8288 - auc: 0.8900 - val_loss: 0.6632 - val_tp: 14032693.0000 - val_fp: 3828266.2500 - val_tn: 13279381.0000 - val_fn: 2899392.5000 - val_accuracy: 0.8023 - val_precision: 0.7857 - val_recall: 0.8288 - val_auc: 0.8899\n",
            "Epoch 16/100\n",
            "12500/12500 [==============================] - 12s 991us/step - loss: 0.6291 - tp: 14036898.0000 - fp: 3830066.7500 - tn: 13283832.0000 - fn: 2901429.7500 - accuracy: 0.8023 - precision: 0.7856 - recall: 0.8287 - auc: 0.8899 - val_loss: 0.6589 - val_tp: 14040780.0000 - val_fp: 3831647.0000 - val_tn: 13288570.0000 - val_fn: 2903722.2500 - val_accuracy: 0.8022 - val_precision: 0.7856 - val_recall: 0.8286 - val_auc: 0.8899\n",
            "Epoch 17/100\n",
            "12500/12500 [==============================] - 13s 1ms/step - loss: 0.6218 - tp: 14044639.0000 - fp: 3833136.0000 - tn: 13293377.0000 - fn: 2906075.0000 - accuracy: 0.8022 - precision: 0.7856 - recall: 0.8286 - auc: 0.8898 - val_loss: 0.6550 - val_tp: 14049493.0000 - val_fp: 3835626.5000 - val_tn: 13297151.0000 - val_fn: 2907450.2500 - val_accuracy: 0.8022 - val_precision: 0.7855 - val_recall: 0.8285 - val_auc: 0.8898\n",
            "Epoch 18/100\n",
            "12500/12500 [==============================] - 12s 997us/step - loss: 0.6140 - tp: 14054418.0000 - fp: 3838172.2500 - tn: 13300862.0000 - fn: 2908763.7500 - accuracy: 0.8021 - precision: 0.7855 - recall: 0.8285 - auc: 0.8897 - val_loss: 0.6480 - val_tp: 14058592.0000 - val_fp: 3839893.0000 - val_tn: 13305449.0000 - val_fn: 2910786.5000 - val_accuracy: 0.8021 - val_precision: 0.7855 - val_recall: 0.8285 - val_auc: 0.8897\n",
            "Epoch 19/100\n",
            "12500/12500 [==============================] - 12s 994us/step - loss: 0.6058 - tp: 14062757.0000 - fp: 3841573.0000 - tn: 13310055.0000 - fn: 2912833.7500 - accuracy: 0.8021 - precision: 0.7854 - recall: 0.8284 - auc: 0.8897 - val_loss: 0.6422 - val_tp: 14067296.0000 - val_fp: 3843603.0000 - val_tn: 13314299.0000 - val_fn: 2914519.0000 - val_accuracy: 0.8020 - val_precision: 0.7854 - val_recall: 0.8284 - val_auc: 0.8896\n"
          ],
          "name": "stdout"
        },
        {
          "output_type": "stream",
          "text": [
            "Epoch 20/100\n",
            "12500/12500 [==============================] - 13s 1ms/step - loss: 0.5974 - tp: 14071892.0000 - fp: 3845572.5000 - tn: 13318605.0000 - fn: 2916151.7500 - accuracy: 0.8020 - precision: 0.7854 - recall: 0.8283 - auc: 0.8896 - val_loss: 0.6365 - val_tp: 14076472.0000 - val_fp: 3847631.0000 - val_tn: 13322846.0000 - val_fn: 2917774.7500 - val_accuracy: 0.8019 - val_precision: 0.7853 - val_recall: 0.8283 - val_auc: 0.8895\n",
            "Epoch 21/100\n",
            "12500/12500 [==============================] - 13s 1ms/step - loss: 0.5888 - tp: 14081088.0000 - fp: 3849648.0000 - tn: 13327127.0000 - fn: 2919372.5000 - accuracy: 0.8019 - precision: 0.7853 - recall: 0.8283 - auc: 0.8895 - val_loss: 0.6312 - val_tp: 14085848.0000 - val_fp: 3851783.5000 - val_tn: 13331252.0000 - val_fn: 2920839.2500 - val_accuracy: 0.8019 - val_precision: 0.7853 - val_recall: 0.8283 - val_auc: 0.8895\n",
            "Epoch 22/100\n",
            "12500/12500 [==============================] - 13s 1ms/step - loss: 0.5794 - tp: 14090617.0000 - fp: 3853908.7500 - tn: 13335395.0000 - fn: 2922301.5000 - accuracy: 0.8019 - precision: 0.7852 - recall: 0.8282 - auc: 0.8894 - val_loss: 0.6258 - val_tp: 14095394.0000 - val_fp: 3856011.5000 - val_tn: 13339589.0000 - val_fn: 2923726.0000 - val_accuracy: 0.8018 - val_precision: 0.7852 - val_recall: 0.8282 - val_auc: 0.8894\n",
            "Epoch 23/100\n",
            "12500/12500 [==============================] - 13s 1ms/step - loss: 0.5706 - tp: 14100184.0000 - fp: 3858111.2500 - tn: 13343799.0000 - fn: 2925128.0000 - accuracy: 0.8018 - precision: 0.7852 - recall: 0.8282 - auc: 0.8894 - val_loss: 0.6189 - val_tp: 14104948.0000 - val_fp: 3860087.2500 - val_tn: 13348077.0000 - val_fn: 2926606.5000 - val_accuracy: 0.8018 - val_precision: 0.7851 - val_recall: 0.8282 - val_auc: 0.8894\n",
            "Epoch 24/100\n",
            "12500/12500 [==============================] - 13s 1ms/step - loss: 0.5614 - tp: 14109703.0000 - fp: 3862007.5000 - tn: 13352430.0000 - fn: 2928083.7500 - accuracy: 0.8017 - precision: 0.7851 - recall: 0.8281 - auc: 0.8893 - val_loss: 0.6129 - val_tp: 14114447.0000 - val_fp: 3864029.7500 - val_tn: 13356708.0000 - val_fn: 2929540.5000 - val_accuracy: 0.8017 - val_precision: 0.7851 - val_recall: 0.8281 - val_auc: 0.8893\n",
            "Epoch 25/100\n",
            "12500/12500 [==============================] - 13s 1ms/step - loss: 0.5523 - tp: 14119269.0000 - fp: 3866073.2500 - tn: 13360957.0000 - fn: 2930930.0000 - accuracy: 0.8017 - precision: 0.7850 - recall: 0.8281 - auc: 0.8893 - val_loss: 0.6051 - val_tp: 14123998.0000 - val_fp: 3867913.7500 - val_tn: 13365384.0000 - val_fn: 2932430.2500 - val_accuracy: 0.8016 - val_precision: 0.7850 - val_recall: 0.8281 - val_auc: 0.8892\n",
            "Epoch 26/100\n",
            "12500/12500 [==============================] - 13s 1ms/step - loss: 0.5433 - tp: 14128717.0000 - fp: 3869727.7500 - tn: 13369856.0000 - fn: 2933918.7500 - accuracy: 0.8016 - precision: 0.7850 - recall: 0.8280 - auc: 0.8892 - val_loss: 0.6030 - val_tp: 14133596.0000 - val_fp: 3871716.5000 - val_tn: 13374147.0000 - val_fn: 2935260.0000 - val_accuracy: 0.8016 - val_precision: 0.7850 - val_recall: 0.8280 - val_auc: 0.8892\n",
            "Epoch 27/100\n",
            "12500/12500 [==============================] - 13s 1ms/step - loss: 0.5341 - tp: 14138496.0000 - fp: 3873707.2500 - tn: 13378441.0000 - fn: 2936575.2500 - accuracy: 0.8016 - precision: 0.7849 - recall: 0.8280 - auc: 0.8891 - val_loss: 0.5954 - val_tp: 14143282.0000 - val_fp: 3875532.5000 - val_tn: 13382890.0000 - val_fn: 2938010.7500 - val_accuracy: 0.8016 - val_precision: 0.7849 - val_recall: 0.8280 - val_auc: 0.8891\n",
            "Epoch 28/100\n",
            "12500/12500 [==============================] - 13s 1ms/step - loss: 0.5252 - tp: 14148110.0000 - fp: 3877343.5000 - tn: 13387357.0000 - fn: 2939415.5000 - accuracy: 0.8015 - precision: 0.7849 - recall: 0.8280 - auc: 0.8891 - val_loss: 0.5861 - val_tp: 14152771.0000 - val_fp: 3878980.5000 - val_tn: 13392009.0000 - val_fn: 2940958.5000 - val_accuracy: 0.8015 - val_precision: 0.7849 - val_recall: 0.8280 - val_auc: 0.8891\n",
            "Epoch 29/100\n",
            "12500/12500 [==============================] - 12s 994us/step - loss: 0.5167 - tp: 14157507.0000 - fp: 3880604.5000 - tn: 13396655.0000 - fn: 2942461.5000 - accuracy: 0.8015 - precision: 0.7849 - recall: 0.8279 - auc: 0.8890 - val_loss: 0.5802 - val_tp: 14162234.0000 - val_fp: 3882250.7500 - val_tn: 13401308.0000 - val_fn: 2943931.5000 - val_accuracy: 0.8015 - val_precision: 0.7849 - val_recall: 0.8279 - val_auc: 0.8890\n",
            "Epoch 30/100\n",
            "12500/12500 [==============================] - 13s 1ms/step - loss: 0.5074 - tp: 14167035.0000 - fp: 3883882.0000 - tn: 13405945.0000 - fn: 2945361.2500 - accuracy: 0.8015 - precision: 0.7848 - recall: 0.8279 - auc: 0.8890 - val_loss: 0.5753 - val_tp: 14171822.0000 - val_fp: 3885554.5000 - val_tn: 13410566.0000 - val_fn: 2946776.7500 - val_accuracy: 0.8014 - val_precision: 0.7848 - val_recall: 0.8279 - val_auc: 0.8890\n",
            "Epoch 31/100\n",
            "12500/12500 [==============================] - 13s 1ms/step - loss: 0.4990 - tp: 14176684.0000 - fp: 3887230.7500 - tn: 13415162.0000 - fn: 2948157.2500 - accuracy: 0.8014 - precision: 0.7848 - recall: 0.8278 - auc: 0.8890 - val_loss: 0.5682 - val_tp: 14181392.0000 - val_fp: 3888725.7500 - val_tn: 13419960.0000 - val_fn: 2949646.0000 - val_accuracy: 0.8014 - val_precision: 0.7848 - val_recall: 0.8278 - val_auc: 0.8889\n",
            "Epoch 32/100\n",
            "12500/12500 [==============================] - 12s 1000us/step - loss: 0.4901 - tp: 14186135.0000 - fp: 3890201.0000 - tn: 13424800.0000 - fn: 2951092.7500 - accuracy: 0.8014 - precision: 0.7848 - recall: 0.8278 - auc: 0.8889 - val_loss: 0.5624 - val_tp: 14191020.0000 - val_fp: 3891768.2500 - val_tn: 13429485.0000 - val_fn: 2952450.0000 - val_accuracy: 0.8014 - val_precision: 0.7848 - val_recall: 0.8278 - val_auc: 0.8889\n",
            "Epoch 33/100\n",
            "12500/12500 [==============================] - 13s 1ms/step - loss: 0.4811 - tp: 14195846.0000 - fp: 3893306.5000 - tn: 13434254.0000 - fn: 2953817.7500 - accuracy: 0.8014 - precision: 0.7848 - recall: 0.8278 - auc: 0.8889 - val_loss: 0.5562 - val_tp: 14200732.0000 - val_fp: 3894828.5000 - val_tn: 13438985.0000 - val_fn: 2955172.7500 - val_accuracy: 0.8014 - val_precision: 0.7848 - val_recall: 0.8277 - val_auc: 0.8889\n",
            "Epoch 34/100\n",
            "12500/12500 [==============================] - 13s 1ms/step - loss: 0.4725 - tp: 14205631.0000 - fp: 3896341.5000 - tn: 13443749.0000 - fn: 2956503.0000 - accuracy: 0.8013 - precision: 0.7848 - recall: 0.8277 - auc: 0.8889 - val_loss: 0.5549 - val_tp: 14210639.0000 - val_fp: 3897972.0000 - val_tn: 13448407.0000 - val_fn: 2957701.2500 - val_accuracy: 0.8013 - val_precision: 0.7847 - val_recall: 0.8277 - val_auc: 0.8888\n",
            "Epoch 35/100\n",
            "12500/12500 [==============================] - 13s 1ms/step - loss: 0.4652 - tp: 14215721.0000 - fp: 3899589.0000 - tn: 13453050.0000 - fn: 2958856.7500 - accuracy: 0.8013 - precision: 0.7847 - recall: 0.8277 - auc: 0.8888 - val_loss: 0.5473 - val_tp: 14220515.0000 - val_fp: 3901022.5000 - val_tn: 13457919.0000 - val_fn: 2960261.0000 - val_accuracy: 0.8013 - val_precision: 0.7847 - val_recall: 0.8277 - val_auc: 0.8888\n",
            "Epoch 36/100\n",
            "12500/12500 [==============================] - 12s 995us/step - loss: 0.4568 - tp: 14225394.0000 - fp: 3902412.2500 - tn: 13462815.0000 - fn: 2961604.5000 - accuracy: 0.8013 - precision: 0.7847 - recall: 0.8277 - auc: 0.8888 - val_loss: 0.5393 - val_tp: 14230316.0000 - val_fp: 3903801.0000 - val_tn: 13467711.0000 - val_fn: 2962895.2500 - val_accuracy: 0.8013 - val_precision: 0.7847 - val_recall: 0.8277 - val_auc: 0.8888\n",
            "Epoch 37/100\n",
            "12500/12500 [==============================] - 13s 1ms/step - loss: 0.4484 - tp: 14235288.0000 - fp: 3905183.7500 - tn: 13472570.0000 - fn: 2964177.2500 - accuracy: 0.8013 - precision: 0.7847 - recall: 0.8277 - auc: 0.8888 - val_loss: 0.5350 - val_tp: 14240128.0000 - val_fp: 3906506.2500 - val_tn: 13477575.0000 - val_fn: 2965516.0000 - val_accuracy: 0.8013 - val_precision: 0.7847 - val_recall: 0.8276 - val_auc: 0.8888\n",
            "Epoch 38/100\n",
            "12500/12500 [==============================] - 12s 994us/step - loss: 0.4408 - tp: 14245017.0000 - fp: 3907784.7500 - tn: 13482571.0000 - fn: 2966849.2500 - accuracy: 0.8013 - precision: 0.7847 - recall: 0.8276 - auc: 0.8888 - val_loss: 0.5283 - val_tp: 14250005.0000 - val_fp: 3909191.2500 - val_tn: 13487458.0000 - val_fn: 2968077.5000 - val_accuracy: 0.8013 - val_precision: 0.7847 - val_recall: 0.8276 - val_auc: 0.8887\n"
          ],
          "name": "stdout"
        },
        {
          "output_type": "stream",
          "text": [
            "Epoch 39/100\n",
            "12500/12500 [==============================] - 13s 1ms/step - loss: 0.4330 - tp: 14255012.0000 - fp: 3910555.5000 - tn: 13492373.0000 - fn: 2969291.2500 - accuracy: 0.8013 - precision: 0.7847 - recall: 0.8276 - auc: 0.8887 - val_loss: 0.5243 - val_tp: 14260055.0000 - val_fp: 3911976.0000 - val_tn: 13497238.0000 - val_fn: 2970455.5000 - val_accuracy: 0.8013 - val_precision: 0.7847 - val_recall: 0.8276 - val_auc: 0.8887\n",
            "Epoch 40/100\n",
            "12500/12500 [==============================] - 13s 1ms/step - loss: 0.4252 - tp: 14265186.0000 - fp: 3913368.2500 - tn: 13502093.0000 - fn: 2971582.2500 - accuracy: 0.8013 - precision: 0.7847 - recall: 0.8276 - auc: 0.8887 - val_loss: 0.5194 - val_tp: 14270207.0000 - val_fp: 3914699.2500 - val_tn: 13507068.0000 - val_fn: 2972744.2500 - val_accuracy: 0.8013 - val_precision: 0.7847 - val_recall: 0.8276 - val_auc: 0.8887\n",
            "Epoch 41/100\n",
            "12500/12500 [==============================] - 12s 1000us/step - loss: 0.4176 - tp: 14275340.0000 - fp: 3916027.0000 - tn: 13511990.0000 - fn: 2973867.7500 - accuracy: 0.8013 - precision: 0.7847 - recall: 0.8276 - auc: 0.8887 - val_loss: 0.5125 - val_tp: 14280348.0000 - val_fp: 3917289.0000 - val_tn: 13517051.0000 - val_fn: 2975036.0000 - val_accuracy: 0.8013 - val_precision: 0.7847 - val_recall: 0.8276 - val_auc: 0.8887\n",
            "Epoch 42/100\n",
            "12500/12500 [==============================] - 13s 1ms/step - loss: 0.4106 - tp: 14285397.0000 - fp: 3918560.5000 - tn: 13522055.0000 - fn: 2976208.0000 - accuracy: 0.8013 - precision: 0.7847 - recall: 0.8276 - auc: 0.8887 - val_loss: 0.5099 - val_tp: 14290525.0000 - val_fp: 3919908.7500 - val_tn: 13526995.0000 - val_fn: 2977294.7500 - val_accuracy: 0.8013 - val_precision: 0.7847 - val_recall: 0.8276 - val_auc: 0.8887\n",
            "Epoch 43/100\n",
            "12500/12500 [==============================] - 13s 1ms/step - loss: 0.4033 - tp: 14295684.0000 - fp: 3921245.7500 - tn: 13531931.0000 - fn: 2978360.2500 - accuracy: 0.8013 - precision: 0.7847 - recall: 0.8276 - auc: 0.8887 - val_loss: 0.5032 - val_tp: 14300795.0000 - val_fp: 3922474.2500 - val_tn: 13536996.0000 - val_fn: 2979462.2500 - val_accuracy: 0.8013 - val_precision: 0.7848 - val_recall: 0.8276 - val_auc: 0.8887\n",
            "Epoch 44/100\n",
            "12500/12500 [==============================] - 12s 999us/step - loss: 0.3963 - tp: 14305929.0000 - fp: 3923723.5000 - tn: 13542020.0000 - fn: 2980553.7500 - accuracy: 0.8013 - precision: 0.7848 - recall: 0.8276 - auc: 0.8887 - val_loss: 0.4982 - val_tp: 14311015.0000 - val_fp: 3924916.7500 - val_tn: 13547119.0000 - val_fn: 2981673.5000 - val_accuracy: 0.8013 - val_precision: 0.7848 - val_recall: 0.8276 - val_auc: 0.8887\n",
            "Epoch 45/100\n",
            "12500/12500 [==============================] - 13s 1ms/step - loss: 0.3888 - tp: 14316137.0000 - fp: 3926084.7500 - tn: 13552239.0000 - fn: 2982762.7500 - accuracy: 0.8013 - precision: 0.7848 - recall: 0.8276 - auc: 0.8887 - val_loss: 0.4964 - val_tp: 14321305.0000 - val_fp: 3927321.0000 - val_tn: 13557278.0000 - val_fn: 2983818.7500 - val_accuracy: 0.8013 - val_precision: 0.7848 - val_recall: 0.8276 - val_auc: 0.8887\n",
            "Epoch 46/100\n",
            "12500/12500 [==============================] - 13s 1ms/step - loss: 0.3827 - tp: 14326466.0000 - fp: 3928523.0000 - tn: 13562368.0000 - fn: 2984862.5000 - accuracy: 0.8013 - precision: 0.7848 - recall: 0.8276 - auc: 0.8887 - val_loss: 0.4896 - val_tp: 14331632.0000 - val_fp: 3929688.0000 - val_tn: 13567472.0000 - val_fn: 2985929.2500 - val_accuracy: 0.8013 - val_precision: 0.7848 - val_recall: 0.8276 - val_auc: 0.8887\n",
            "Epoch 47/100\n",
            "12500/12500 [==============================] - 13s 1ms/step - loss: 0.3763 - tp: 14336780.0000 - fp: 3930854.2500 - tn: 13572601.0000 - fn: 2986990.7500 - accuracy: 0.8013 - precision: 0.7848 - recall: 0.8276 - auc: 0.8887 - val_loss: 0.4901 - val_tp: 14342046.0000 - val_fp: 3932099.7500 - val_tn: 13577630.0000 - val_fn: 2987950.2500 - val_accuracy: 0.8013 - val_precision: 0.7848 - val_recall: 0.8276 - val_auc: 0.8887\n",
            "Epoch 48/100\n",
            "12500/12500 [==============================] - 13s 1ms/step - loss: 0.3697 - tp: 14347303.0000 - fp: 3933342.5000 - tn: 13582659.0000 - fn: 2988913.2500 - accuracy: 0.8014 - precision: 0.7848 - recall: 0.8276 - auc: 0.8887 - val_loss: 0.4841 - val_tp: 14352536.0000 - val_fp: 3934534.5000 - val_tn: 13587766.0000 - val_fn: 2989892.7500 - val_accuracy: 0.8014 - val_precision: 0.7849 - val_recall: 0.8276 - val_auc: 0.8887\n",
            "Epoch 49/100\n",
            "12500/12500 [==============================] - 13s 1ms/step - loss: 0.3640 - tp: 14357821.0000 - fp: 3935730.5000 - tn: 13592822.0000 - fn: 2990859.2500 - accuracy: 0.8014 - precision: 0.7849 - recall: 0.8276 - auc: 0.8887 - val_loss: 0.4823 - val_tp: 14363002.0000 - val_fp: 3936922.2500 - val_tn: 13597936.0000 - val_fn: 2991860.2500 - val_accuracy: 0.8014 - val_precision: 0.7849 - val_recall: 0.8276 - val_auc: 0.8887\n",
            "Epoch 50/100\n",
            "12500/12500 [==============================] - 13s 1ms/step - loss: 0.3573 - tp: 14368231.0000 - fp: 3938103.0000 - tn: 13603033.0000 - fn: 2992849.7500 - accuracy: 0.8014 - precision: 0.7849 - recall: 0.8276 - auc: 0.8887 - val_loss: 0.4766 - val_tp: 14373334.0000 - val_fp: 3939131.0000 - val_tn: 13608292.0000 - val_fn: 2993961.2500 - val_accuracy: 0.8014 - val_precision: 0.7849 - val_recall: 0.8276 - val_auc: 0.8887\n",
            "Epoch 51/100\n",
            "12500/12500 [==============================] - 12s 987us/step - loss: 0.3525 - tp: 14378454.0000 - fp: 3940131.2500 - tn: 13613572.0000 - fn: 2995063.2500 - accuracy: 0.8014 - precision: 0.7849 - recall: 0.8276 - auc: 0.8887 - val_loss: 0.4712 - val_tp: 14383659.0000 - val_fp: 3941175.2500 - val_tn: 13618815.0000 - val_fn: 2996082.2500 - val_accuracy: 0.8014 - val_precision: 0.7849 - val_recall: 0.8276 - val_auc: 0.8887\n",
            "Epoch 52/100\n",
            "12500/12500 [==============================] - 12s 999us/step - loss: 0.3463 - tp: 14388850.0000 - fp: 3942219.2500 - tn: 13624048.0000 - fn: 2997102.0000 - accuracy: 0.8014 - precision: 0.7849 - recall: 0.8276 - auc: 0.8887 - val_loss: 0.4724 - val_tp: 14394107.0000 - val_fp: 3943332.2500 - val_tn: 13629228.0000 - val_fn: 2998063.7500 - val_accuracy: 0.8014 - val_precision: 0.7850 - val_recall: 0.8276 - val_auc: 0.8887\n",
            "Epoch 53/100\n",
            "12500/12500 [==============================] - 13s 1ms/step - loss: 0.3402 - tp: 14399387.0000 - fp: 3944465.7500 - tn: 13634353.0000 - fn: 2999015.7500 - accuracy: 0.8015 - precision: 0.7850 - recall: 0.8276 - auc: 0.8887 - val_loss: 0.4649 - val_tp: 14404622.0000 - val_fp: 3945519.7500 - val_tn: 13639595.0000 - val_fn: 2999987.5000 - val_accuracy: 0.8015 - val_precision: 0.7850 - val_recall: 0.8276 - val_auc: 0.8887\n",
            "Epoch 54/100\n",
            "12500/12500 [==============================] - 12s 1000us/step - loss: 0.3349 - tp: 14409855.0000 - fp: 3946571.2500 - tn: 13644843.0000 - fn: 3000947.5000 - accuracy: 0.8015 - precision: 0.7850 - recall: 0.8276 - auc: 0.8887 - val_loss: 0.4660 - val_tp: 14415200.0000 - val_fp: 3947753.7500 - val_tn: 13649927.0000 - val_fn: 3001839.2500 - val_accuracy: 0.8015 - val_precision: 0.7850 - val_recall: 0.8276 - val_auc: 0.8887\n",
            "Epoch 55/100\n",
            "12500/12500 [==============================] - 13s 1ms/step - loss: 0.3298 - tp: 14420551.0000 - fp: 3948909.2500 - tn: 13655028.0000 - fn: 3002727.7500 - accuracy: 0.8015 - precision: 0.7850 - recall: 0.8277 - auc: 0.8888 - val_loss: 0.4591 - val_tp: 14425730.0000 - val_fp: 3949889.5000 - val_tn: 13660360.0000 - val_fn: 3003745.2500 - val_accuracy: 0.8015 - val_precision: 0.7850 - val_recall: 0.8277 - val_auc: 0.8888\n",
            "Epoch 56/100\n",
            "12500/12500 [==============================] - 12s 1000us/step - loss: 0.3246 - tp: 14430961.0000 - fp: 3950857.7500 - tn: 13665657.0000 - fn: 3004748.2500 - accuracy: 0.8015 - precision: 0.7851 - recall: 0.8277 - auc: 0.8888 - val_loss: 0.4642 - val_tp: 14436119.0000 - val_fp: 3951838.5000 - val_tn: 13670976.0000 - val_fn: 3005790.2500 - val_accuracy: 0.8015 - val_precision: 0.7851 - val_recall: 0.8277 - val_auc: 0.8888\n",
            "Epoch 57/100\n",
            "12500/12500 [==============================] - 13s 1ms/step - loss: 0.3200 - tp: 14441295.0000 - fp: 3952795.5000 - tn: 13676302.0000 - fn: 3006834.2500 - accuracy: 0.8016 - precision: 0.7851 - recall: 0.8277 - auc: 0.8888 - val_loss: 0.4618 - val_tp: 14446565.0000 - val_fp: 3953846.0000 - val_tn: 13681530.0000 - val_fn: 3007787.2500 - val_accuracy: 0.8016 - val_precision: 0.7851 - val_recall: 0.8277 - val_auc: 0.8888\n"
          ],
          "name": "stdout"
        },
        {
          "output_type": "stream",
          "text": [
            "Epoch 58/100\n",
            "12500/12500 [==============================] - 13s 1ms/step - loss: 0.3151 - tp: 14451843.0000 - fp: 3954895.0000 - tn: 13686755.0000 - fn: 3008732.0000 - accuracy: 0.8016 - precision: 0.7851 - recall: 0.8277 - auc: 0.8888 - val_loss: 0.4499 - val_tp: 14457132.0000 - val_fp: 3955881.5000 - val_tn: 13692060.0000 - val_fn: 3009644.7500 - val_accuracy: 0.8016 - val_precision: 0.7852 - val_recall: 0.8277 - val_auc: 0.8888\n",
            "Epoch 59/100\n",
            "12500/12500 [==============================] - 13s 1ms/step - loss: 0.3097 - tp: 14462468.0000 - fp: 3956850.2500 - tn: 13697349.0000 - fn: 3010548.0000 - accuracy: 0.8016 - precision: 0.7852 - recall: 0.8277 - auc: 0.8888 - val_loss: 0.4477 - val_tp: 14467727.0000 - val_fp: 3957805.5000 - val_tn: 13702704.0000 - val_fn: 3011487.7500 - val_accuracy: 0.8016 - val_precision: 0.7852 - val_recall: 0.8277 - val_auc: 0.8888\n",
            "Epoch 60/100\n",
            "12500/12500 [==============================] - 13s 1ms/step - loss: 0.3048 - tp: 14473051.0000 - fp: 3958745.2500 - tn: 13708023.0000 - fn: 3012411.0000 - accuracy: 0.8017 - precision: 0.7852 - recall: 0.8277 - auc: 0.8888 - val_loss: 0.4465 - val_tp: 14478344.0000 - val_fp: 3959736.7500 - val_tn: 13713335.0000 - val_fn: 3013316.0000 - val_accuracy: 0.8017 - val_precision: 0.7852 - val_recall: 0.8277 - val_auc: 0.8889\n",
            "Epoch 61/100\n",
            "12500/12500 [==============================] - 13s 1ms/step - loss: 0.3007 - tp: 14483677.0000 - fp: 3960717.5000 - tn: 13718633.0000 - fn: 3014195.0000 - accuracy: 0.8017 - precision: 0.7853 - recall: 0.8277 - auc: 0.8889 - val_loss: 0.4480 - val_tp: 14489050.0000 - val_fp: 3961742.5000 - val_tn: 13723897.0000 - val_fn: 3015045.0000 - val_accuracy: 0.8017 - val_precision: 0.7853 - val_recall: 0.8278 - val_auc: 0.8889\n",
            "Epoch 62/100\n",
            "12500/12500 [==============================] - 13s 1ms/step - loss: 0.2961 - tp: 14494453.0000 - fp: 3962787.7500 - tn: 13729115.0000 - fn: 3015866.5000 - accuracy: 0.8017 - precision: 0.7853 - recall: 0.8278 - auc: 0.8889 - val_loss: 0.4505 - val_tp: 14499816.0000 - val_fp: 3963854.2500 - val_tn: 13734346.0000 - val_fn: 3016713.2500 - val_accuracy: 0.8017 - val_precision: 0.7853 - val_recall: 0.8278 - val_auc: 0.8889\n",
            "Epoch 63/100\n",
            "12500/12500 [==============================] - 13s 1ms/step - loss: 0.2916 - tp: 14505221.0000 - fp: 3964935.2500 - tn: 13739533.0000 - fn: 3017538.5000 - accuracy: 0.8017 - precision: 0.7853 - recall: 0.8278 - auc: 0.8889 - val_loss: 0.4394 - val_tp: 14510572.0000 - val_fp: 3965887.5000 - val_tn: 13744882.0000 - val_fn: 3018392.0000 - val_accuracy: 0.8018 - val_precision: 0.7854 - val_recall: 0.8278 - val_auc: 0.8889\n",
            "Epoch 64/100\n",
            "12500/12500 [==============================] - 13s 1ms/step - loss: 0.2874 - tp: 14515944.0000 - fp: 3966861.5000 - tn: 13750174.0000 - fn: 3019239.7500 - accuracy: 0.8018 - precision: 0.7854 - recall: 0.8278 - auc: 0.8889 - val_loss: 0.4379 - val_tp: 14521237.0000 - val_fp: 3967757.7500 - val_tn: 13755575.0000 - val_fn: 3020148.0000 - val_accuracy: 0.8018 - val_precision: 0.7854 - val_recall: 0.8278 - val_auc: 0.8889\n",
            "Epoch 65/100\n",
            "12500/12500 [==============================] - 13s 1ms/step - loss: 0.2832 - tp: 14526570.0000 - fp: 3968648.7500 - tn: 13760948.0000 - fn: 3021059.5000 - accuracy: 0.8018 - precision: 0.7854 - recall: 0.8278 - auc: 0.8890 - val_loss: 0.4439 - val_tp: 14531813.0000 - val_fp: 3969538.0000 - val_tn: 13766361.0000 - val_fn: 3022013.0000 - val_accuracy: 0.8018 - val_precision: 0.7854 - val_recall: 0.8278 - val_auc: 0.8890\n",
            "Epoch 66/100\n",
            "12500/12500 [==============================] - 13s 1ms/step - loss: 0.2790 - tp: 14537094.0000 - fp: 3970410.7500 - tn: 13771769.0000 - fn: 3022950.5000 - accuracy: 0.8019 - precision: 0.7855 - recall: 0.8278 - auc: 0.8890 - val_loss: 0.4344 - val_tp: 14542473.0000 - val_fp: 3971376.0000 - val_tn: 13777087.0000 - val_fn: 3023783.0000 - val_accuracy: 0.8019 - val_precision: 0.7855 - val_recall: 0.8279 - val_auc: 0.8890\n",
            "Epoch 67/100\n",
            "12500/12500 [==============================] - 13s 1ms/step - loss: 0.2752 - tp: 14547879.0000 - fp: 3972333.0000 - tn: 13782417.0000 - fn: 3024592.2500 - accuracy: 0.8019 - precision: 0.7855 - recall: 0.8279 - auc: 0.8890 - val_loss: 0.4358 - val_tp: 14553338.0000 - val_fp: 3973359.0000 - val_tn: 13787668.0000 - val_fn: 3025351.7500 - val_accuracy: 0.8019 - val_precision: 0.7855 - val_recall: 0.8279 - val_auc: 0.8890\n",
            "Epoch 68/100\n",
            "12500/12500 [==============================] - 13s 1ms/step - loss: 0.2710 - tp: 14558840.0000 - fp: 3974407.2500 - tn: 13792895.0000 - fn: 3026088.5000 - accuracy: 0.8019 - precision: 0.7856 - recall: 0.8279 - auc: 0.8890 - val_loss: 0.4302 - val_tp: 14564150.0000 - val_fp: 3975258.2500 - val_tn: 13798335.0000 - val_fn: 3026975.5000 - val_accuracy: 0.8020 - val_precision: 0.7856 - val_recall: 0.8279 - val_auc: 0.8891\n",
            "Epoch 69/100\n",
            "12500/12500 [==============================] - 13s 1ms/step - loss: 0.2675 - tp: 14569518.0000 - fp: 3976101.2500 - tn: 13803754.0000 - fn: 3027849.5000 - accuracy: 0.8020 - precision: 0.7856 - recall: 0.8279 - auc: 0.8891 - val_loss: 0.4297 - val_tp: 14574898.0000 - val_fp: 3977054.5000 - val_tn: 13809101.0000 - val_fn: 3028662.2500 - val_accuracy: 0.8020 - val_precision: 0.7856 - val_recall: 0.8280 - val_auc: 0.8891\n",
            "Epoch 70/100\n",
            "12500/12500 [==============================] - 12s 998us/step - loss: 0.2635 - tp: 14580314.0000 - fp: 3977990.0000 - tn: 13814462.0000 - fn: 3029462.0000 - accuracy: 0.8020 - precision: 0.7857 - recall: 0.8280 - auc: 0.8891 - val_loss: 0.4276 - val_tp: 14585705.0000 - val_fp: 3978874.0000 - val_tn: 13819848.0000 - val_fn: 3030292.0000 - val_accuracy: 0.8020 - val_precision: 0.7857 - val_recall: 0.8280 - val_auc: 0.8891\n",
            "Epoch 71/100\n",
            "12500/12500 [==============================] - 12s 992us/step - loss: 0.2599 - tp: 14591123.0000 - fp: 3979776.0000 - tn: 13825228.0000 - fn: 3031099.5000 - accuracy: 0.8021 - precision: 0.7857 - recall: 0.8280 - auc: 0.8891 - val_loss: 0.4292 - val_tp: 14596527.0000 - val_fp: 3980677.5000 - val_tn: 13830606.0000 - val_fn: 3031910.5000 - val_accuracy: 0.8021 - val_precision: 0.7857 - val_recall: 0.8280 - val_auc: 0.8892\n",
            "Epoch 72/100\n",
            "12500/12500 [==============================] - 12s 996us/step - loss: 0.2565 - tp: 14601948.0000 - fp: 3981608.5000 - tn: 13835963.0000 - fn: 3032709.0000 - accuracy: 0.8021 - precision: 0.7857 - recall: 0.8280 - auc: 0.8892 - val_loss: 0.4259 - val_tp: 14607384.0000 - val_fp: 3982532.5000 - val_tn: 13841319.0000 - val_fn: 3033492.5000 - val_accuracy: 0.8021 - val_precision: 0.7858 - val_recall: 0.8280 - val_auc: 0.8892\n",
            "Epoch 73/100\n",
            "12500/12500 [==============================] - 13s 1ms/step - loss: 0.2527 - tp: 14612831.0000 - fp: 3983447.5000 - tn: 13846686.0000 - fn: 3034268.5000 - accuracy: 0.8022 - precision: 0.7858 - recall: 0.8281 - auc: 0.8892 - val_loss: 0.4323 - val_tp: 14618174.0000 - val_fp: 3984314.0000 - val_tn: 13852104.0000 - val_fn: 3035138.5000 - val_accuracy: 0.8022 - val_precision: 0.7858 - val_recall: 0.8281 - val_auc: 0.8892\n",
            "Epoch 74/100\n",
            "12500/12500 [==============================] - 13s 1ms/step - loss: 0.2496 - tp: 14623498.0000 - fp: 3985165.7500 - tn: 13857559.0000 - fn: 3036000.0000 - accuracy: 0.8022 - precision: 0.7858 - recall: 0.8281 - auc: 0.8892 - val_loss: 0.4225 - val_tp: 14628893.0000 - val_fp: 3985988.7500 - val_tn: 13862997.0000 - val_fn: 3036854.7500 - val_accuracy: 0.8022 - val_precision: 0.7859 - val_recall: 0.8281 - val_auc: 0.8893\n",
            "Epoch 75/100\n",
            "12500/12500 [==============================] - 12s 998us/step - loss: 0.2462 - tp: 14634249.0000 - fp: 3986798.0000 - tn: 13868460.0000 - fn: 3037718.2500 - accuracy: 0.8022 - precision: 0.7859 - recall: 0.8281 - auc: 0.8893 - val_loss: 0.4232 - val_tp: 14639671.0000 - val_fp: 3987642.2500 - val_tn: 13873906.0000 - val_fn: 3038509.7500 - val_accuracy: 0.8023 - val_precision: 0.7859 - val_recall: 0.8281 - val_auc: 0.8893\n",
            "Epoch 76/100\n",
            "12500/12500 [==============================] - 12s 991us/step - loss: 0.2430 - tp: 14645079.0000 - fp: 3988516.7500 - tn: 13879317.0000 - fn: 3039311.5000 - accuracy: 0.8023 - precision: 0.7860 - recall: 0.8281 - auc: 0.8893 - val_loss: 0.4224 - val_tp: 14650567.0000 - val_fp: 3989437.7500 - val_tn: 13884677.0000 - val_fn: 3040040.0000 - val_accuracy: 0.8023 - val_precision: 0.7860 - val_recall: 0.8282 - val_auc: 0.8893\n"
          ],
          "name": "stdout"
        },
        {
          "output_type": "stream",
          "text": [
            "Epoch 77/100\n",
            "12500/12500 [==============================] - 13s 1ms/step - loss: 0.2399 - tp: 14656080.0000 - fp: 3990367.0000 - tn: 13890018.0000 - fn: 3040753.5000 - accuracy: 0.8023 - precision: 0.7860 - recall: 0.8282 - auc: 0.8893 - val_loss: 0.4208 - val_tp: 14661529.0000 - val_fp: 3991253.0000 - val_tn: 13895426.0000 - val_fn: 3041517.7500 - val_accuracy: 0.8024 - val_precision: 0.7860 - val_recall: 0.8282 - val_auc: 0.8894\n",
            "Epoch 78/100\n",
            "12500/12500 [==============================] - 13s 1ms/step - loss: 0.2363 - tp: 14667003.0000 - fp: 3992138.0000 - tn: 13900813.0000 - fn: 3042269.2500 - accuracy: 0.8024 - precision: 0.7860 - recall: 0.8282 - auc: 0.8894 - val_loss: 0.4208 - val_tp: 14672452.0000 - val_fp: 3993011.5000 - val_tn: 13906232.0000 - val_fn: 3043033.0000 - val_accuracy: 0.8024 - val_precision: 0.7861 - val_recall: 0.8282 - val_auc: 0.8894\n",
            "Epoch 79/100\n",
            "12500/12500 [==============================] - 13s 1ms/step - loss: 0.2337 - tp: 14677916.0000 - fp: 3993895.0000 - tn: 13911629.0000 - fn: 3043779.0000 - accuracy: 0.8024 - precision: 0.7861 - recall: 0.8282 - auc: 0.8894 - val_loss: 0.4187 - val_tp: 14683356.0000 - val_fp: 3994763.7500 - val_tn: 13917047.0000 - val_fn: 3044557.5000 - val_accuracy: 0.8025 - val_precision: 0.7861 - val_recall: 0.8283 - val_auc: 0.8894\n",
            "Epoch 80/100\n",
            "12500/12500 [==============================] - 13s 1ms/step - loss: 0.2311 - tp: 14688818.0000 - fp: 3995623.7500 - tn: 13922474.0000 - fn: 3045311.5000 - accuracy: 0.8025 - precision: 0.7862 - recall: 0.8283 - auc: 0.8894 - val_loss: 0.4321 - val_tp: 14694200.0000 - val_fp: 3996466.7500 - val_tn: 13927903.0000 - val_fn: 3046149.0000 - val_accuracy: 0.8025 - val_precision: 0.7862 - val_recall: 0.8283 - val_auc: 0.8895\n",
            "Epoch 81/100\n",
            "12500/12500 [==============================] - 13s 1ms/step - loss: 0.2270 - tp: 14699608.0000 - fp: 3997327.0000 - tn: 13933323.0000 - fn: 3046970.5000 - accuracy: 0.8025 - precision: 0.7862 - recall: 0.8283 - auc: 0.8895 - val_loss: 0.4275 - val_tp: 14704997.0000 - val_fp: 3998157.0000 - val_tn: 13938782.0000 - val_fn: 3047781.2500 - val_accuracy: 0.8025 - val_precision: 0.7862 - val_recall: 0.8283 - val_auc: 0.8895\n",
            "Epoch 82/100\n",
            "12500/12500 [==============================] - 13s 1ms/step - loss: 0.2243 - tp: 14710391.0000 - fp: 3998989.7500 - tn: 13944244.0000 - fn: 3048594.0000 - accuracy: 0.8026 - precision: 0.7863 - recall: 0.8283 - auc: 0.8895 - val_loss: 0.4205 - val_tp: 14715900.0000 - val_fp: 3999872.0000 - val_tn: 13949630.0000 - val_fn: 3049325.0000 - val_accuracy: 0.8026 - val_precision: 0.7863 - val_recall: 0.8284 - val_auc: 0.8895\n",
            "Epoch 83/100\n",
            "12500/12500 [==============================] - 13s 1ms/step - loss: 0.2218 - tp: 14721410.0000 - fp: 4000762.0000 - tn: 13954995.0000 - fn: 3050051.5000 - accuracy: 0.8026 - precision: 0.7863 - recall: 0.8284 - auc: 0.8895 - val_loss: 0.4146 - val_tp: 14726799.0000 - val_fp: 4001524.7500 - val_tn: 13960548.0000 - val_fn: 3050856.7500 - val_accuracy: 0.8026 - val_precision: 0.7863 - val_recall: 0.8284 - val_auc: 0.8896\n",
            "Epoch 84/100\n",
            "12500/12500 [==============================] - 13s 1ms/step - loss: 0.2191 - tp: 14732220.0000 - fp: 4002280.5000 - tn: 13966071.0000 - fn: 3051643.0000 - accuracy: 0.8027 - precision: 0.7864 - recall: 0.8284 - auc: 0.8896 - val_loss: 0.4149 - val_tp: 14737673.0000 - val_fp: 4003097.7500 - val_tn: 13971540.0000 - val_fn: 3052411.5000 - val_accuracy: 0.8027 - val_precision: 0.7864 - val_recall: 0.8284 - val_auc: 0.8896\n",
            "Epoch 85/100\n",
            "12500/12500 [==============================] - 13s 1ms/step - loss: 0.2160 - tp: 14743164.0000 - fp: 4003910.0000 - tn: 13976973.0000 - fn: 3053170.2500 - accuracy: 0.8027 - precision: 0.7864 - recall: 0.8284 - auc: 0.8896 - val_loss: 0.4283 - val_tp: 14748485.0000 - val_fp: 4004656.7500 - val_tn: 13982545.0000 - val_fn: 3054039.0000 - val_accuracy: 0.8027 - val_precision: 0.7865 - val_recall: 0.8284 - val_auc: 0.8896\n",
            "Epoch 86/100\n",
            "12500/12500 [==============================] - 13s 1ms/step - loss: 0.2131 - tp: 14753863.0000 - fp: 4005416.5000 - tn: 13988052.0000 - fn: 3054901.7500 - accuracy: 0.8028 - precision: 0.7865 - recall: 0.8285 - auc: 0.8897 - val_loss: 0.4140 - val_tp: 14759370.0000 - val_fp: 4006255.2500 - val_tn: 13993510.0000 - val_fn: 3055593.5000 - val_accuracy: 0.8028 - val_precision: 0.7865 - val_recall: 0.8285 - val_auc: 0.8897\n",
            "Epoch 87/100\n",
            "12500/12500 [==============================] - 13s 1ms/step - loss: 0.2101 - tp: 14764881.0000 - fp: 4007116.0000 - tn: 13998929.0000 - fn: 3056302.7500 - accuracy: 0.8028 - precision: 0.7865 - recall: 0.8285 - auc: 0.8897 - val_loss: 0.4149 - val_tp: 14770384.0000 - val_fp: 4007950.5000 - val_tn: 14004377.0000 - val_fn: 3057006.7500 - val_accuracy: 0.8028 - val_precision: 0.7866 - val_recall: 0.8285 - val_auc: 0.8897\n",
            "Epoch 88/100\n",
            "12500/12500 [==============================] - 13s 1ms/step - loss: 0.2079 - tp: 14775910.0000 - fp: 4008808.5000 - tn: 14009805.0000 - fn: 3057700.7500 - accuracy: 0.8029 - precision: 0.7866 - recall: 0.8285 - auc: 0.8897 - val_loss: 0.4138 - val_tp: 14781392.0000 - val_fp: 4009615.7500 - val_tn: 14015277.0000 - val_fn: 3058442.5000 - val_accuracy: 0.8029 - val_precision: 0.7866 - val_recall: 0.8286 - val_auc: 0.8898\n",
            "Epoch 89/100\n",
            "12500/12500 [==============================] - 12s 979us/step - loss: 0.2053 - tp: 14786845.0000 - fp: 4010411.0000 - tn: 14020782.0000 - fn: 3059187.2500 - accuracy: 0.8029 - precision: 0.7867 - recall: 0.8286 - auc: 0.8898 - val_loss: 0.4139 - val_tp: 14792405.0000 - val_fp: 4011258.0000 - val_tn: 14026201.0000 - val_fn: 3059854.5000 - val_accuracy: 0.8029 - val_precision: 0.7867 - val_recall: 0.8286 - val_auc: 0.8898\n",
            "Epoch 90/100\n",
            "12500/12500 [==============================] - 12s 997us/step - loss: 0.2026 - tp: 14797951.0000 - fp: 4012111.2500 - tn: 14031643.0000 - fn: 3060522.5000 - accuracy: 0.8030 - precision: 0.7867 - recall: 0.8286 - auc: 0.8898 - val_loss: 0.4125 - val_tp: 14803487.0000 - val_fp: 4012944.7500 - val_tn: 14037081.0000 - val_fn: 3061219.5000 - val_accuracy: 0.8030 - val_precision: 0.7867 - val_recall: 0.8286 - val_auc: 0.8899\n",
            "Epoch 91/100\n",
            "12500/12500 [==============================] - 13s 1ms/step - loss: 0.2002 - tp: 14809029.0000 - fp: 4013777.7500 - tn: 14042522.0000 - fn: 3061887.7500 - accuracy: 0.8030 - precision: 0.7868 - recall: 0.8287 - auc: 0.8899 - val_loss: 0.4109 - val_tp: 14814510.0000 - val_fp: 4014555.2500 - val_tn: 14048029.0000 - val_fn: 3062620.2500 - val_accuracy: 0.8031 - val_precision: 0.7868 - val_recall: 0.8287 - val_auc: 0.8899\n",
            "Epoch 92/100\n",
            "12500/12500 [==============================] - 12s 997us/step - loss: 0.1978 - tp: 14820006.0000 - fp: 4015341.7500 - tn: 14053534.0000 - fn: 3063345.7500 - accuracy: 0.8031 - precision: 0.7868 - recall: 0.8287 - auc: 0.8899 - val_loss: 0.4111 - val_tp: 14825541.0000 - val_fp: 4016137.5000 - val_tn: 14059016.0000 - val_fn: 3064035.5000 - val_accuracy: 0.8031 - val_precision: 0.7869 - val_recall: 0.8287 - val_auc: 0.8899\n",
            "Epoch 93/100\n",
            "12500/12500 [==============================] - 13s 1ms/step - loss: 0.1954 - tp: 14831079.0000 - fp: 4016953.5000 - tn: 14064462.0000 - fn: 3064718.7500 - accuracy: 0.8031 - precision: 0.7869 - recall: 0.8287 - auc: 0.8900 - val_loss: 0.4120 - val_tp: 14836609.0000 - val_fp: 4017770.7500 - val_tn: 14069949.0000 - val_fn: 3065396.0000 - val_accuracy: 0.8032 - val_precision: 0.7869 - val_recall: 0.8288 - val_auc: 0.8900\n",
            "Epoch 94/100\n",
            "12500/12500 [==============================] - 12s 997us/step - loss: 0.1933 - tp: 14842182.0000 - fp: 4018587.2500 - tn: 14075405.0000 - fn: 3066055.2500 - accuracy: 0.8032 - precision: 0.7869 - recall: 0.8288 - auc: 0.8900 - val_loss: 0.4119 - val_tp: 14847636.0000 - val_fp: 4019319.7500 - val_tn: 14080965.0000 - val_fn: 3066804.7500 - val_accuracy: 0.8032 - val_precision: 0.7870 - val_recall: 0.8288 - val_auc: 0.8900\n",
            "Epoch 95/100\n",
            "12500/12500 [==============================] - 12s 999us/step - loss: 0.1904 - tp: 14853078.0000 - fp: 4020036.7500 - tn: 14086537.0000 - fn: 3067561.5000 - accuracy: 0.8032 - precision: 0.7870 - recall: 0.8288 - auc: 0.8901 - val_loss: 0.4241 - val_tp: 14858667.0000 - val_fp: 4020921.2500 - val_tn: 14091931.0000 - val_fn: 3068211.5000 - val_accuracy: 0.8033 - val_precision: 0.7870 - val_recall: 0.8288 - val_auc: 0.8901\n"
          ],
          "name": "stdout"
        },
        {
          "output_type": "stream",
          "text": [
            "Epoch 96/100\n",
            "12500/12500 [==============================] - 13s 1ms/step - loss: 0.1884 - tp: 14864236.0000 - fp: 4021800.5000 - tn: 14097323.0000 - fn: 3068858.5000 - accuracy: 0.8033 - precision: 0.7870 - recall: 0.8289 - auc: 0.8901 - val_loss: 0.4139 - val_tp: 14869736.0000 - val_fp: 4022589.5000 - val_tn: 14102823.0000 - val_fn: 3069572.0000 - val_accuracy: 0.8033 - val_precision: 0.7871 - val_recall: 0.8289 - val_auc: 0.8901\n",
            "Epoch 97/100\n",
            "12500/12500 [==============================] - 13s 1ms/step - loss: 0.1856 - tp: 14875262.0000 - fp: 4023359.5000 - tn: 14108328.0000 - fn: 3070279.2500 - accuracy: 0.8034 - precision: 0.7871 - recall: 0.8289 - auc: 0.8901 - val_loss: 0.4158 - val_tp: 14880752.0000 - val_fp: 4024136.0000 - val_tn: 14113842.0000 - val_fn: 3070997.2500 - val_accuracy: 0.8034 - val_precision: 0.7871 - val_recall: 0.8289 - val_auc: 0.8902\n",
            "Epoch 98/100\n",
            "12500/12500 [==============================] - 13s 1ms/step - loss: 0.1839 - tp: 14886280.0000 - fp: 4024918.5000 - tn: 14119314.0000 - fn: 3071715.5000 - accuracy: 0.8034 - precision: 0.7872 - recall: 0.8290 - auc: 0.8902 - val_loss: 0.4106 - val_tp: 14891781.0000 - val_fp: 4025676.5000 - val_tn: 14124865.0000 - val_fn: 3072394.7500 - val_accuracy: 0.8034 - val_precision: 0.7872 - val_recall: 0.8290 - val_auc: 0.8902\n",
            "Epoch 99/100\n",
            "12500/12500 [==============================] - 13s 1ms/step - loss: 0.1814 - tp: 14897331.0000 - fp: 4026460.2500 - tn: 14130371.0000 - fn: 3073067.7500 - accuracy: 0.8035 - precision: 0.7872 - recall: 0.8290 - auc: 0.8902 - val_loss: 0.4093 - val_tp: 14902872.0000 - val_fp: 4027233.5000 - val_tn: 14135876.0000 - val_fn: 3073750.7500 - val_accuracy: 0.8035 - val_precision: 0.7873 - val_recall: 0.8290 - val_auc: 0.8902\n",
            "Epoch 100/100\n",
            "12500/12500 [==============================] - 13s 1ms/step - loss: 0.1789 - tp: 14908423.0000 - fp: 4028003.7500 - tn: 14141377.0000 - fn: 3074420.0000 - accuracy: 0.8035 - precision: 0.7873 - recall: 0.8290 - auc: 0.8903 - val_loss: 0.4111 - val_tp: 14913917.0000 - val_fp: 4028734.2500 - val_tn: 14146944.0000 - val_fn: 3075130.2500 - val_accuracy: 0.8036 - val_precision: 0.7873 - val_recall: 0.8291 - val_auc: 0.8903\n"
          ],
          "name": "stdout"
        }
      ]
    },
    {
      "cell_type": "code",
      "metadata": {
        "id": "mvKcIP5JexDL",
        "outputId": "372effe9-3fa7-4746-c53d-52e7e8cf7b7a"
      },
      "source": [
        "import matplotlib.pyplot as plt\n",
        "plt.plot(training_history.history[\"loss\"], label=\"training_loss\")\n",
        "plt.plot(training_history.history[\"val_loss\"], label=\"val_loss\")\n",
        "plt.legend()"
      ],
      "execution_count": null,
      "outputs": [
        {
          "output_type": "execute_result",
          "data": {
            "text/plain": [
              "<matplotlib.legend.Legend at 0x7f6f8eb1b320>"
            ]
          },
          "metadata": {
            "tags": []
          },
          "execution_count": 388
        },
        {
          "output_type": "display_data",
          "data": {
            "image/png": "[encoded data removed]",
            "text/plain": [
              "<Figure size 432x288 with 1 Axes>"
            ]
          },
          "metadata": {
            "tags": [],
            "needs_background": "light"
          }
        }
      ]
    },
    {
      "cell_type": "code",
      "metadata": {
        "id": "RjRsFkrnexDO",
        "outputId": "bb0c6851-ebd0-487e-8c66-774a766a7aa7"
      },
      "source": [
        "np.mean(training_history.history[\"loss\"]), np.mean(training_history.history[\"val_loss\"])"
      ],
      "execution_count": null,
      "outputs": [
        {
          "output_type": "execute_result",
          "data": {
            "text/plain": [
              "(0.3965594513476849, 0.514246604735756)"
            ]
          },
          "metadata": {
            "tags": []
          },
          "execution_count": 389
        }
      ]
    },
    {
      "cell_type": "code",
      "metadata": {
        "id": "2w-pDgs_exDR",
        "outputId": "a4ec4000-295d-450f-e0f2-cebfa1c2fd61"
      },
      "source": [
        "X_valid.shape"
      ],
      "execution_count": null,
      "outputs": [
        {
          "output_type": "execute_result",
          "data": {
            "text/plain": [
              "(12500, 10000)"
            ]
          },
          "metadata": {
            "tags": []
          },
          "execution_count": 390
        }
      ]
    },
    {
      "cell_type": "code",
      "metadata": {
        "id": "TmJnc7t4exDU",
        "outputId": "df802a1d-f499-425a-f901-dbd4f7bf7463"
      },
      "source": [
        "train_loss = []\n",
        "for i in range(0,X_train.shape[0]):\n",
        "    prediction = emb_model.predict(X_train[i].reshape(1,10000))\n",
        "    train_loss.append((y_train[i]-prediction[0][0])**2)"
      ],
      "execution_count": null,
      "outputs": [
        {
          "output_type": "error",
          "ename": "ValueError",
          "evalue": "cannot reshape array of size 10000 into shape (1,100)",
          "traceback": [
            "\u001b[0;31m---------------------------------------------------------------------------\u001b[0m",
            "\u001b[0;31mValueError\u001b[0m                                Traceback (most recent call last)",
            "\u001b[0;32m<ipython-input-391-94d8fc0c2698>\u001b[0m in \u001b[0;36m<module>\u001b[0;34m\u001b[0m\n\u001b[1;32m      1\u001b[0m \u001b[0mtrain_loss\u001b[0m \u001b[0;34m=\u001b[0m \u001b[0;34m[\u001b[0m\u001b[0;34m]\u001b[0m\u001b[0;34m\u001b[0m\u001b[0;34m\u001b[0m\u001b[0m\n\u001b[1;32m      2\u001b[0m \u001b[0;32mfor\u001b[0m \u001b[0mi\u001b[0m \u001b[0;32min\u001b[0m \u001b[0mrange\u001b[0m\u001b[0;34m(\u001b[0m\u001b[0;36m0\u001b[0m\u001b[0;34m,\u001b[0m\u001b[0mX_train\u001b[0m\u001b[0;34m.\u001b[0m\u001b[0mshape\u001b[0m\u001b[0;34m[\u001b[0m\u001b[0;36m0\u001b[0m\u001b[0;34m]\u001b[0m\u001b[0;34m)\u001b[0m\u001b[0;34m:\u001b[0m\u001b[0;34m\u001b[0m\u001b[0;34m\u001b[0m\u001b[0m\n\u001b[0;32m----> 3\u001b[0;31m     \u001b[0mprediction\u001b[0m \u001b[0;34m=\u001b[0m \u001b[0memb_model\u001b[0m\u001b[0;34m.\u001b[0m\u001b[0mpredict\u001b[0m\u001b[0;34m(\u001b[0m\u001b[0mX_train\u001b[0m\u001b[0;34m[\u001b[0m\u001b[0mi\u001b[0m\u001b[0;34m]\u001b[0m\u001b[0;34m.\u001b[0m\u001b[0mreshape\u001b[0m\u001b[0;34m(\u001b[0m\u001b[0;36m1\u001b[0m\u001b[0;34m,\u001b[0m\u001b[0;36m100\u001b[0m\u001b[0;34m)\u001b[0m\u001b[0;34m)\u001b[0m\u001b[0;34m\u001b[0m\u001b[0;34m\u001b[0m\u001b[0m\n\u001b[0m\u001b[1;32m      4\u001b[0m     \u001b[0mtrain_loss\u001b[0m\u001b[0;34m.\u001b[0m\u001b[0mappend\u001b[0m\u001b[0;34m(\u001b[0m\u001b[0;34m(\u001b[0m\u001b[0my_train\u001b[0m\u001b[0;34m[\u001b[0m\u001b[0mi\u001b[0m\u001b[0;34m]\u001b[0m\u001b[0;34m-\u001b[0m\u001b[0mprediction\u001b[0m\u001b[0;34m[\u001b[0m\u001b[0;36m0\u001b[0m\u001b[0;34m]\u001b[0m\u001b[0;34m[\u001b[0m\u001b[0;36m0\u001b[0m\u001b[0;34m]\u001b[0m\u001b[0;34m)\u001b[0m\u001b[0;34m**\u001b[0m\u001b[0;36m2\u001b[0m\u001b[0;34m)\u001b[0m\u001b[0;34m\u001b[0m\u001b[0;34m\u001b[0m\u001b[0m\n",
            "\u001b[0;31mValueError\u001b[0m: cannot reshape array of size 10000 into shape (1,100)"
          ]
        }
      ]
    },
    {
      "cell_type": "code",
      "metadata": {
        "id": "h7XYlAtOexDX"
      },
      "source": [
        "np.mean(train_loss)"
      ],
      "execution_count": null,
      "outputs": []
    },
    {
      "cell_type": "code",
      "metadata": {
        "id": "iWdrkF5gexDZ"
      },
      "source": [
        "import matplotlib.pyplot as plt\n",
        "plt.scatter(np.arange(y_train.shape[0]),train_loss, label=\"train_loss\")\n",
        "plt.legend()"
      ],
      "execution_count": null,
      "outputs": []
    },
    {
      "cell_type": "code",
      "metadata": {
        "scrolled": true,
        "id": "WqDCkSG5exDc"
      },
      "source": [
        "evaluation_loss, evaluation_auc = [], []\n",
        "for i in range(0,X_valid.shape[0]):\n",
        "    prediction = emb_model.predict(X_valid[i].reshape(1,10000))\n",
        "    evaluation_loss.append((y_valid[i]-prediction[0][0])**2)"
      ],
      "execution_count": null,
      "outputs": []
    },
    {
      "cell_type": "code",
      "metadata": {
        "id": "pYOxIp94exDf"
      },
      "source": [
        "np.mean(evaluation_loss)"
      ],
      "execution_count": null,
      "outputs": []
    },
    {
      "cell_type": "code",
      "metadata": {
        "id": "0EGFcVMzexDh"
      },
      "source": [
        "import matplotlib.pyplot as plt\n",
        "plt.scatter(np.arange(y_valid.shape[0]),evaluation_loss, label=\"val_loss\")\n",
        "plt.legend()"
      ],
      "execution_count": null,
      "outputs": []
    },
    {
      "cell_type": "code",
      "metadata": {
        "id": "SS6LMj-1exDk"
      },
      "source": [
        "test_loss = []\n",
        "for i in range(0,X_test.shape[0]):\n",
        "    prediction = emb_model.predict(X_test[i].reshape(1,10000))\n",
        "    test_loss.append((y_test[i]-prediction[0][0])**2)"
      ],
      "execution_count": null,
      "outputs": []
    },
    {
      "cell_type": "code",
      "metadata": {
        "id": "pVy5hp7fexDn"
      },
      "source": [
        "np.mean(test_loss)"
      ],
      "execution_count": null,
      "outputs": []
    },
    {
      "cell_type": "code",
      "metadata": {
        "id": "KLNUZUh7exDp"
      },
      "source": [
        "import matplotlib.pyplot as plt\n",
        "plt.scatter(np.arange(y_test.shape[0]),test_loss, label=\"test_loss\")\n",
        "plt.legend()"
      ],
      "execution_count": null,
      "outputs": []
    },
    {
      "cell_type": "code",
      "metadata": {
        "id": "0AlZJ-F1exDr",
        "outputId": "66df6a3f-eb80-4791-dfa4-f7a19c250926"
      },
      "source": [
        "emb_model.evaluate(X_test, y_test)"
      ],
      "execution_count": null,
      "outputs": [
        {
          "output_type": "stream",
          "text": [
            "25000/25000 [==============================] - 11s 433us/step\n"
          ],
          "name": "stdout"
        },
        {
          "output_type": "execute_result",
          "data": {
            "text/plain": [
              "[0.4073862804508209,\n",
              " 14921521.0,\n",
              " 4030394.5,\n",
              " 14154625.0,\n",
              " 3076946.5,\n",
              " 0.8035638928413391,\n",
              " 0.7873389720916748,\n",
              " 0.8290432691574097,\n",
              " 0.8902812600135803]"
            ]
          },
          "metadata": {
            "tags": []
          },
          "execution_count": 392
        }
      ]
    },
    {
      "cell_type": "code",
      "metadata": {
        "id": "FotyGxDeexDw",
        "outputId": "83011add-d3b0-4911-db67-0f3f97f1c405"
      },
      "source": [
        "predicted_labels = emb_model.predict(X_test)\n",
        "print(\"AUC score\", roc_auc_score(np.rint(y_test),predicted_labels))\n",
        "    #auc.append(roc_auc_score(np.rint(y_val),predicted_labels))\n",
        "print(\"F1 score\", f1_score(np.rint(y_test),np.rint(predicted_labels)))\n"
      ],
      "execution_count": null,
      "outputs": [
        {
          "output_type": "stream",
          "text": [
            "AUC score 0.8972991237683068\n",
            "F1 score 0.8154223455152173\n"
          ],
          "name": "stdout"
        }
      ]
    },
    {
      "cell_type": "code",
      "metadata": {
        "id": "4663yTlMexDy",
        "outputId": "f9a29447-e6df-481e-df7f-84e65aaec612"
      },
      "source": [
        "log_loss(y_test, predicted_labels)"
      ],
      "execution_count": null,
      "outputs": [
        {
          "output_type": "execute_result",
          "data": {
            "text/plain": [
              "0.4073862849568817"
            ]
          },
          "metadata": {
            "tags": []
          },
          "execution_count": 394
        }
      ]
    },
    {
      "cell_type": "markdown",
      "metadata": {
        "id": "hmnAJQJEexD0"
      },
      "source": [
        "## TF-idf vectorizer with keras 1 layer"
      ]
    },
    {
      "cell_type": "code",
      "metadata": {
        "id": "DgEZJv1dexD1"
      },
      "source": [
        "vectorizer = TfidfVectorizer(max_features=10000, ngram_range = (1,5))\n",
        "vectorizer = vectorizer.fit(data_df[\"data_text\"])"
      ],
      "execution_count": null,
      "outputs": []
    },
    {
      "cell_type": "code",
      "metadata": {
        "id": "zZTPscSKexD3"
      },
      "source": [
        "seed = 42\n",
        "\n",
        "X_train, X_test, y_train, y_test = train_test_split(data_df[\"data_text\"], data_df[\"label\"], test_size=0.5, random_state=seed)\n",
        "\n",
        "X_train, X_valid, y_train, y_valid = train_test_split(X_train, y_train, test_size=0.5, random_state=seed)\n",
        "\n",
        "X_train = vectorizer.transform(X_train)\n",
        "X_valid = vectorizer.transform(X_valid)\n",
        "X_test = vectorizer.transform(X_test)\n"
      ],
      "execution_count": null,
      "outputs": []
    },
    {
      "cell_type": "code",
      "metadata": {
        "id": "3PE8clCqexD5",
        "outputId": "ca382d16-5a3f-4c14-ba15-9cdfc4bdcd1c"
      },
      "source": [
        "import keras\n",
        "\n",
        "model = Sequential()\n",
        "\n",
        "model.add(Dense(1, activation='sigmoid', input_dim=X_train.shape[1]))\n",
        "model.compile(optimizer=\"rmsprop\", loss='binary_crossentropy', metrics=METRICS)\n",
        "\n",
        "training_history = model.fit(\n",
        "  X_train,\n",
        "  y_train,\n",
        "  epochs = epochs,\n",
        "    validation_data = [X_valid, y_valid]\n",
        ")"
      ],
      "execution_count": null,
      "outputs": [
        {
          "output_type": "stream",
          "text": [
            "Train on 12500 samples, validate on 12500 samples\n",
            "Epoch 1/100\n",
            "12500/12500 [==============================] - 3s 220us/step - loss: 0.6554 - tp: 4120308.0000 - fp: 1401985.1250 - tn: 3928177.0000 - fn: 1155803.5000 - accuracy: 0.7588 - precision: 0.7461 - recall: 0.7809 - auc: 0.8229 - val_loss: 0.6216 - val_tp: 4125291.7500 - val_fp: 1402923.7500 - val_tn: 3933535.5000 - val_fn: 1157020.8750 - val_accuracy: 0.7589 - val_precision: 0.7462 - val_recall: 0.7810 - val_auc: 0.8230\n",
            "Epoch 2/100\n",
            "12500/12500 [==============================] - 2s 151us/step - loss: 0.5880 - tp: 4130319.5000 - fp: 1403681.8750 - tn: 3939073.0000 - fn: 1158197.7500 - accuracy: 0.7590 - precision: 0.7464 - recall: 0.7810 - auc: 0.8231 - val_loss: 0.5660 - val_tp: 4135642.7500 - val_fp: 1404668.7500 - val_tn: 3944358.2500 - val_fn: 1159104.1250 - val_accuracy: 0.7591 - val_precision: 0.7465 - val_recall: 0.7811 - val_auc: 0.8232\n",
            "Epoch 3/100\n",
            "12500/12500 [==============================] - 2s 157us/step - loss: 0.5339 - tp: 4141005.2500 - fp: 1405599.3750 - tn: 3949713.7500 - fn: 1159954.1250 - accuracy: 0.7592 - precision: 0.7466 - recall: 0.7812 - auc: 0.8234 - val_loss: 0.5214 - val_tp: 4146411.7500 - val_fp: 1406545.6250 - val_tn: 3955045.5000 - val_fn: 1160768.7500 - val_accuracy: 0.7594 - val_precision: 0.7467 - val_recall: 0.7813 - val_auc: 0.8235\n",
            "Epoch 4/100\n",
            "12500/12500 [==============================] - 2s 176us/step - loss: 0.4902 - tp: 4151812.0000 - fp: 1407437.1250 - tn: 3960455.5000 - fn: 1161567.2500 - accuracy: 0.7595 - precision: 0.7468 - recall: 0.7814 - auc: 0.8237 - val_loss: 0.4857 - val_tp: 4157306.7500 - val_fp: 1408409.7500 - val_tn: 3965746.7500 - val_fn: 1162308.7500 - val_accuracy: 0.7596 - val_precision: 0.7470 - val_recall: 0.7815 - val_auc: 0.8238\n",
            "Epoch 5/100\n",
            "12500/12500 [==============================] - 2s 168us/step - loss: 0.4544 - tp: 4162891.2500 - fp: 1409395.7500 - tn: 3971015.0000 - fn: 1162970.2500 - accuracy: 0.7597 - precision: 0.7471 - recall: 0.7816 - auc: 0.8240 - val_loss: 0.4558 - val_tp: 4168345.7500 - val_fp: 1410289.6250 - val_tn: 3976431.2500 - val_fn: 1163705.7500 - val_accuracy: 0.7599 - val_precision: 0.7472 - val_recall: 0.7818 - val_auc: 0.8242\n",
            "Epoch 6/100\n",
            "12500/12500 [==============================] - 2s 183us/step - loss: 0.4248 - tp: 4173901.0000 - fp: 1411171.2500 - tn: 3981809.2500 - fn: 1164390.5000 - accuracy: 0.7600 - precision: 0.7473 - recall: 0.7819 - auc: 0.8243 - val_loss: 0.4315 - val_tp: 4179368.0000 - val_fp: 1412028.6250 - val_tn: 3987257.0000 - val_fn: 1165119.1250 - val_accuracy: 0.7601 - val_precision: 0.7475 - val_recall: 0.7820 - val_auc: 0.8245\n",
            "Epoch 7/100\n",
            "12500/12500 [==============================] - 2s 164us/step - loss: 0.3998 - tp: 4184934.5000 - fp: 1412873.0000 - tn: 3992667.2500 - fn: 1165797.5000 - accuracy: 0.7603 - precision: 0.7476 - recall: 0.7821 - auc: 0.8247 - val_loss: 0.4111 - val_tp: 4190438.7500 - val_fp: 1413708.5000 - val_tn: 3998141.0000 - val_fn: 1166483.1250 - val_accuracy: 0.7604 - val_precision: 0.7477 - val_recall: 0.7822 - val_auc: 0.8249\n",
            "Epoch 8/100\n",
            "12500/12500 [==============================] - 2s 168us/step - loss: 0.3787 - tp: 4196032.5000 - fp: 1414549.6250 - tn: 4003577.5000 - fn: 1167113.1250 - accuracy: 0.7605 - precision: 0.7479 - recall: 0.7824 - auc: 0.8250 - val_loss: 0.3943 - val_tp: 4201600.5000 - val_fp: 1415368.1250 - val_tn: 4009046.5000 - val_fn: 1167756.6250 - val_accuracy: 0.7607 - val_precision: 0.7480 - val_recall: 0.7825 - val_auc: 0.8252\n",
            "Epoch 9/100\n",
            "12500/12500 [==============================] - 2s 182us/step - loss: 0.3605 - tp: 4207246.5000 - fp: 1416218.0000 - tn: 4014461.0000 - fn: 1168345.2500 - accuracy: 0.7608 - precision: 0.7482 - recall: 0.7827 - auc: 0.8254 - val_loss: 0.3795 - val_tp: 4212803.5000 - val_fp: 1417012.7500 - val_tn: 4019969.0000 - val_fn: 1168987.2500 - val_accuracy: 0.7610 - val_precision: 0.7483 - val_recall: 0.7828 - val_auc: 0.8256\n",
            "Epoch 10/100\n",
            "12500/12500 [==============================] - 2s 160us/step - loss: 0.3447 - tp: 4218442.5000 - fp: 1417805.2500 - tn: 4025449.0000 - fn: 1169574.7500 - accuracy: 0.7611 - precision: 0.7484 - recall: 0.7829 - auc: 0.8258 - val_loss: 0.3669 - val_tp: 4224021.0000 - val_fp: 1418586.3750 - val_tn: 4030959.7500 - val_fn: 1170204.7500 - val_accuracy: 0.7613 - val_precision: 0.7486 - val_recall: 0.7831 - val_auc: 0.8260\n",
            "Epoch 11/100\n",
            "12500/12500 [==============================] - 2s 176us/step - loss: 0.3308 - tp: 4229678.0000 - fp: 1419369.6250 - tn: 4036435.5000 - fn: 1170788.1250 - accuracy: 0.7614 - precision: 0.7487 - recall: 0.7832 - auc: 0.8262 - val_loss: 0.3559 - val_tp: 4235257.0000 - val_fp: 1420113.3750 - val_tn: 4041996.5000 - val_fn: 1171404.2500 - val_accuracy: 0.7616 - val_precision: 0.7489 - val_recall: 0.7833 - val_auc: 0.8264\n",
            "Epoch 12/100\n",
            "12500/12500 [==============================] - 2s 172us/step - loss: 0.3185 - tp: 4240878.5000 - fp: 1420843.8750 - tn: 4047544.7500 - fn: 1172005.3750 - accuracy: 0.7617 - precision: 0.7490 - recall: 0.7835 - auc: 0.8266 - val_loss: 0.3465 - val_tp: 4246485.0000 - val_fp: 1421588.0000 - val_tn: 4053088.0000 - val_fn: 1172611.2500 - val_accuracy: 0.7619 - val_precision: 0.7492 - val_recall: 0.7836 - val_auc: 0.8267\n",
            "Epoch 13/100\n",
            "12500/12500 [==============================] - 2s 162us/step - loss: 0.3075 - tp: 4252128.0000 - fp: 1422339.3750 - tn: 4058620.0000 - fn: 1173184.6250 - accuracy: 0.7620 - precision: 0.7493 - recall: 0.7838 - auc: 0.8269 - val_loss: 0.3382 - val_tp: 4257759.0000 - val_fp: 1423069.0000 - val_tn: 4064171.7500 - val_fn: 1173772.6250 - val_accuracy: 0.7622 - val_precision: 0.7495 - val_recall: 0.7839 - val_auc: 0.8271\n",
            "Epoch 14/100\n",
            "12500/12500 [==============================] - 2s 172us/step - loss: 0.2976 - tp: 4263416.5000 - fp: 1423819.2500 - tn: 4069702.5000 - fn: 1174334.2500 - accuracy: 0.7623 - precision: 0.7496 - recall: 0.7840 - auc: 0.8273 - val_loss: 0.3307 - val_tp: 4269045.5000 - val_fp: 1424524.5000 - val_tn: 4075280.2500 - val_fn: 1174920.8750 - val_accuracy: 0.7625 - val_precision: 0.7498 - val_recall: 0.7842 - val_auc: 0.8275\n",
            "Epoch 15/100\n",
            "12500/12500 [==============================] - 2s 176us/step - loss: 0.2887 - tp: 4274717.0000 - fp: 1425239.7500 - tn: 4080836.0000 - fn: 1175479.1250 - accuracy: 0.7626 - precision: 0.7500 - recall: 0.7843 - auc: 0.8277 - val_loss: 0.3243 - val_tp: 4280338.5000 - val_fp: 1425944.8750 - val_tn: 4086426.5000 - val_fn: 1176063.3750 - val_accuracy: 0.7628 - val_precision: 0.7501 - val_recall: 0.7845 - val_auc: 0.8279\n",
            "Epoch 16/100\n",
            "12500/12500 [==============================] - 2s 190us/step - loss: 0.2805 - tp: 4285991.5000 - fp: 1426658.8750 - tn: 4092016.5000 - fn: 1176604.7500 - accuracy: 0.7629 - precision: 0.7503 - recall: 0.7846 - auc: 0.8281 - val_loss: 0.3184 - val_tp: 4291666.5000 - val_fp: 1427359.7500 - val_tn: 4097576.5000 - val_fn: 1177169.6250 - val_accuracy: 0.7631 - val_precision: 0.7504 - val_recall: 0.7847 - val_auc: 0.8283\n",
            "Epoch 17/100\n",
            "12500/12500 [==============================] - 2s 161us/step - loss: 0.2729 - tp: 4297364.0000 - fp: 1428066.3750 - tn: 4103150.7500 - fn: 1177690.8750 - accuracy: 0.7632 - precision: 0.7506 - recall: 0.7849 - auc: 0.8285 - val_loss: 0.3131 - val_tp: 4303010.5000 - val_fp: 1428748.7500 - val_tn: 4108751.5000 - val_fn: 1178261.1250 - val_accuracy: 0.7634 - val_precision: 0.7507 - val_recall: 0.7850 - val_auc: 0.8287\n",
            "Epoch 18/100\n",
            "12500/12500 [==============================] - 2s 159us/step - loss: 0.2660 - tp: 4308723.5000 - fp: 1429445.3750 - tn: 4114311.7500 - fn: 1178791.5000 - accuracy: 0.7636 - precision: 0.7509 - recall: 0.7852 - auc: 0.8290 - val_loss: 0.3083 - val_tp: 4314345.0000 - val_fp: 1430103.6250 - val_tn: 4119961.2500 - val_fn: 1179360.7500 - val_accuracy: 0.7637 - val_precision: 0.7510 - val_recall: 0.7853 - val_auc: 0.8292\n",
            "Epoch 19/100\n",
            "12500/12500 [==============================] - 2s 183us/step - loss: 0.2597 - tp: 4320027.0000 - fp: 1430760.3750 - tn: 4125575.2500 - fn: 1179912.0000 - accuracy: 0.7639 - precision: 0.7512 - recall: 0.7855 - auc: 0.8294 - val_loss: 0.3040 - val_tp: 4325662.0000 - val_fp: 1431414.5000 - val_tn: 4131216.7500 - val_fn: 1180480.3750 - val_accuracy: 0.7640 - val_precision: 0.7514 - val_recall: 0.7856 - val_auc: 0.8296\n"
          ],
          "name": "stdout"
        },
        {
          "output_type": "stream",
          "text": [
            "Epoch 20/100\n",
            "12500/12500 [==============================] - 2s 173us/step - loss: 0.2536 - tp: 4331355.5000 - fp: 1432069.1250 - tn: 4136833.0000 - fn: 1181015.3750 - accuracy: 0.7642 - precision: 0.7515 - recall: 0.7858 - auc: 0.8298 - val_loss: 0.3002 - val_tp: 4337003.5000 - val_fp: 1432737.2500 - val_tn: 4142459.7500 - val_fn: 1181571.8750 - val_accuracy: 0.7643 - val_precision: 0.7517 - val_recall: 0.7859 - val_auc: 0.8300\n",
            "Epoch 21/100\n",
            "12500/12500 [==============================] - 2s 179us/step - loss: 0.2481 - tp: 4342707.5000 - fp: 1433408.8750 - tn: 4148072.7500 - fn: 1182082.7500 - accuracy: 0.7645 - precision: 0.7518 - recall: 0.7860 - auc: 0.8302 - val_loss: 0.2966 - val_tp: 4348384.0000 - val_fp: 1434060.2500 - val_tn: 4153701.2500 - val_fn: 1182627.0000 - val_accuracy: 0.7647 - val_precision: 0.7520 - val_recall: 0.7862 - val_auc: 0.8304\n",
            "Epoch 22/100\n",
            "12500/12500 [==============================] - 2s 166us/step - loss: 0.2429 - tp: 4354052.5000 - fp: 1434712.3750 - tn: 4159356.7500 - fn: 1183149.0000 - accuracy: 0.7648 - precision: 0.7522 - recall: 0.7863 - auc: 0.8306 - val_loss: 0.2934 - val_tp: 4359771.5000 - val_fp: 1435364.8750 - val_tn: 4164961.5000 - val_fn: 1183676.1250 - val_accuracy: 0.7650 - val_precision: 0.7523 - val_recall: 0.7865 - val_auc: 0.8308\n",
            "Epoch 23/100\n",
            "12500/12500 [==============================] - 2s 182us/step - loss: 0.2380 - tp: 4365534.5000 - fp: 1436027.2500 - tn: 4170540.5000 - fn: 1184171.7500 - accuracy: 0.7651 - precision: 0.7525 - recall: 0.7866 - auc: 0.8310 - val_loss: 0.2903 - val_tp: 4371163.0000 - val_fp: 1436661.5000 - val_tn: 4176230.2500 - val_fn: 1184717.8750 - val_accuracy: 0.7653 - val_precision: 0.7526 - val_recall: 0.7868 - val_auc: 0.8312\n",
            "Epoch 24/100\n",
            "12500/12500 [==============================] - 3s 200us/step - loss: 0.2335 - tp: 4376855.0000 - fp: 1437297.2500 - tn: 4181882.7500 - fn: 1185237.7500 - accuracy: 0.7655 - precision: 0.7528 - recall: 0.7869 - auc: 0.8314 - val_loss: 0.2877 - val_tp: 4382542.0000 - val_fp: 1437934.6250 - val_tn: 4187522.2500 - val_fn: 1185773.2500 - val_accuracy: 0.7656 - val_precision: 0.7530 - val_recall: 0.7871 - val_auc: 0.8316\n",
            "Epoch 25/100\n",
            "12500/12500 [==============================] - 2s 176us/step - loss: 0.2292 - tp: 4388270.5000 - fp: 1438583.1250 - tn: 4193150.0000 - fn: 1186269.1250 - accuracy: 0.7658 - precision: 0.7531 - recall: 0.7872 - auc: 0.8318 - val_loss: 0.2853 - val_tp: 4393952.0000 - val_fp: 1439205.1250 - val_tn: 4198816.0000 - val_fn: 1186798.6250 - val_accuracy: 0.7659 - val_precision: 0.7533 - val_recall: 0.7873 - val_auc: 0.8320\n",
            "Epoch 26/100\n",
            "12500/12500 [==============================] - 2s 176us/step - loss: 0.2250 - tp: 4399660.5000 - fp: 1439848.6250 - tn: 4204473.5000 - fn: 1187287.6250 - accuracy: 0.7661 - precision: 0.7534 - recall: 0.7875 - auc: 0.8322 - val_loss: 0.2830 - val_tp: 4405385.5000 - val_fp: 1440470.8750 - val_tn: 4210114.0000 - val_fn: 1187800.7500 - val_accuracy: 0.7662 - val_precision: 0.7536 - val_recall: 0.7876 - val_auc: 0.8324\n",
            "Epoch 27/100\n",
            "12500/12500 [==============================] - 2s 179us/step - loss: 0.2212 - tp: 4411140.5000 - fp: 1441112.7500 - tn: 4215742.0000 - fn: 1188277.0000 - accuracy: 0.7664 - precision: 0.7538 - recall: 0.7878 - auc: 0.8327 - val_loss: 0.2807 - val_tp: 4416821.5000 - val_fp: 1441731.1250 - val_tn: 4221419.5000 - val_fn: 1188799.6250 - val_accuracy: 0.7666 - val_precision: 0.7539 - val_recall: 0.7879 - val_auc: 0.8329\n",
            "Epoch 28/100\n",
            "12500/12500 [==============================] - 2s 195us/step - loss: 0.2175 - tp: 4422537.5000 - fp: 1442352.6250 - tn: 4227085.5000 - fn: 1189295.7500 - accuracy: 0.7667 - precision: 0.7541 - recall: 0.7881 - auc: 0.8331 - val_loss: 0.2787 - val_tp: 4428253.5000 - val_fp: 1442967.1250 - val_tn: 4232748.0000 - val_fn: 1189802.7500 - val_accuracy: 0.7669 - val_precision: 0.7542 - val_recall: 0.7882 - val_auc: 0.8333\n",
            "Epoch 29/100\n",
            "12500/12500 [==============================] - 2s 155us/step - loss: 0.2139 - tp: 4433997.5000 - fp: 1443594.6250 - tn: 4238382.0000 - fn: 1190298.3750 - accuracy: 0.7670 - precision: 0.7544 - recall: 0.7884 - auc: 0.8335 - val_loss: 0.2768 - val_tp: 4439680.5000 - val_fp: 1444189.6250 - val_tn: 4244090.5000 - val_fn: 1190810.8750 - val_accuracy: 0.7672 - val_precision: 0.7546 - val_recall: 0.7885 - val_auc: 0.8337\n",
            "Epoch 30/100\n",
            "12500/12500 [==============================] - 3s 204us/step - loss: 0.2106 - tp: 4445396.5000 - fp: 1444785.7500 - tn: 4249780.5000 - fn: 1191308.0000 - accuracy: 0.7674 - precision: 0.7547 - recall: 0.7887 - auc: 0.8339 - val_loss: 0.2752 - val_tp: 4451111.0000 - val_fp: 1445381.1250 - val_tn: 4255465.5000 - val_fn: 1191814.8750 - val_accuracy: 0.7675 - val_precision: 0.7549 - val_recall: 0.7888 - val_auc: 0.8341\n",
            "Epoch 31/100\n",
            "12500/12500 [==============================] - 2s 155us/step - loss: 0.2074 - tp: 4456837.0000 - fp: 1445990.6250 - tn: 4261159.5000 - fn: 1192286.2500 - accuracy: 0.7677 - precision: 0.7550 - recall: 0.7889 - auc: 0.8343 - val_loss: 0.2738 - val_tp: 4462573.0000 - val_fp: 1446591.6250 - val_tn: 4266820.0000 - val_fn: 1192788.0000 - val_accuracy: 0.7678 - val_precision: 0.7552 - val_recall: 0.7891 - val_auc: 0.8345\n",
            "Epoch 32/100\n",
            "12500/12500 [==============================] - 2s 191us/step - loss: 0.2043 - tp: 4468324.0000 - fp: 1447208.3750 - tn: 4272489.0000 - fn: 1193249.5000 - accuracy: 0.7680 - precision: 0.7554 - recall: 0.7892 - auc: 0.8347 - val_loss: 0.2724 - val_tp: 4474046.5000 - val_fp: 1447794.6250 - val_tn: 4278181.5000 - val_fn: 1193748.6250 - val_accuracy: 0.7682 - val_precision: 0.7555 - val_recall: 0.7894 - val_auc: 0.8349\n",
            "Epoch 33/100\n",
            "12500/12500 [==============================] - 2s 168us/step - loss: 0.2014 - tp: 4479822.5000 - fp: 1448404.6250 - tn: 4283839.0000 - fn: 1194206.5000 - accuracy: 0.7683 - precision: 0.7557 - recall: 0.7895 - auc: 0.8351 - val_loss: 0.2710 - val_tp: 4485517.5000 - val_fp: 1448987.8750 - val_tn: 4289553.5000 - val_fn: 1194714.0000 - val_accuracy: 0.7685 - val_precision: 0.7558 - val_recall: 0.7897 - val_auc: 0.8353\n",
            "Epoch 34/100\n",
            "12500/12500 [==============================] - 3s 208us/step - loss: 0.1985 - tp: 4491272.5000 - fp: 1449580.8750 - tn: 4295231.0000 - fn: 1195187.1250 - accuracy: 0.7686 - precision: 0.7560 - recall: 0.7898 - auc: 0.8355 - val_loss: 0.2697 - val_tp: 4496975.0000 - val_fp: 1450150.7500 - val_tn: 4300955.0000 - val_fn: 1195690.5000 - val_accuracy: 0.7688 - val_precision: 0.7562 - val_recall: 0.7900 - val_auc: 0.8358\n",
            "Epoch 35/100\n",
            "12500/12500 [==============================] - 2s 168us/step - loss: 0.1958 - tp: 4502729.5000 - fp: 1450722.2500 - tn: 4306654.5000 - fn: 1196165.1250 - accuracy: 0.7690 - precision: 0.7563 - recall: 0.7901 - auc: 0.8360 - val_loss: 0.2686 - val_tp: 4508428.5000 - val_fp: 1451288.8750 - val_tn: 4312383.0000 - val_fn: 1196671.0000 - val_accuracy: 0.7691 - val_precision: 0.7565 - val_recall: 0.7902 - val_auc: 0.8362\n",
            "Epoch 36/100\n",
            "12500/12500 [==============================] - 3s 205us/step - loss: 0.1932 - tp: 4514183.0000 - fp: 1451847.7500 - tn: 4318088.5000 - fn: 1197151.6250 - accuracy: 0.7693 - precision: 0.7566 - recall: 0.7904 - auc: 0.8364 - val_loss: 0.2676 - val_tp: 4519889.0000 - val_fp: 1452421.2500 - val_tn: 4323814.0000 - val_fn: 1197646.3750 - val_accuracy: 0.7694 - val_precision: 0.7568 - val_recall: 0.7905 - val_auc: 0.8366\n",
            "Epoch 37/100\n",
            "12500/12500 [==============================] - 2s 148us/step - loss: 0.1907 - tp: 4525627.0000 - fp: 1452995.6250 - tn: 4329538.5000 - fn: 1198111.6250 - accuracy: 0.7696 - precision: 0.7570 - recall: 0.7907 - auc: 0.8368 - val_loss: 0.2666 - val_tp: 4531372.0000 - val_fp: 1453563.3750 - val_tn: 4335237.0000 - val_fn: 1198598.2500 - val_accuracy: 0.7698 - val_precision: 0.7571 - val_recall: 0.7908 - val_auc: 0.8370\n",
            "Epoch 38/100\n",
            "12500/12500 [==============================] - 3s 220us/step - loss: 0.1882 - tp: 4537166.5000 - fp: 1454139.1250 - tn: 4340917.0000 - fn: 1199047.7500 - accuracy: 0.7699 - precision: 0.7573 - recall: 0.7910 - auc: 0.8372 - val_loss: 0.2657 - val_tp: 4542867.5000 - val_fp: 1454702.3750 - val_tn: 4346662.5000 - val_fn: 1199537.7500 - val_accuracy: 0.7701 - val_precision: 0.7575 - val_recall: 0.7911 - val_auc: 0.8374\n"
          ],
          "name": "stdout"
        },
        {
          "output_type": "stream",
          "text": [
            "Epoch 39/100\n",
            "12500/12500 [==============================] - 2s 170us/step - loss: 0.1858 - tp: 4548620.0000 - fp: 1455272.6250 - tn: 4352388.0000 - fn: 1199992.0000 - accuracy: 0.7702 - precision: 0.7576 - recall: 0.7913 - auc: 0.8376 - val_loss: 0.2650 - val_tp: 4554376.0000 - val_fp: 1455832.2500 - val_tn: 4358100.0000 - val_fn: 1200465.6250 - val_accuracy: 0.7704 - val_precision: 0.7578 - val_recall: 0.7914 - val_auc: 0.8378\n",
            "Epoch 40/100\n",
            "12500/12500 [==============================] - 3s 211us/step - loss: 0.1836 - tp: 4560165.0000 - fp: 1456406.3750 - tn: 4363794.5000 - fn: 1200906.3750 - accuracy: 0.7706 - precision: 0.7579 - recall: 0.7915 - auc: 0.8380 - val_loss: 0.2642 - val_tp: 4565890.0000 - val_fp: 1456963.1250 - val_tn: 4369532.5000 - val_fn: 1201386.3750 - val_accuracy: 0.7707 - val_precision: 0.7581 - val_recall: 0.7917 - val_auc: 0.8382\n",
            "Epoch 41/100\n",
            "12500/12500 [==============================] - 2s 162us/step - loss: 0.1814 - tp: 4571658.0000 - fp: 1457530.6250 - tn: 4375256.5000 - fn: 1201826.0000 - accuracy: 0.7709 - precision: 0.7583 - recall: 0.7918 - auc: 0.8384 - val_loss: 0.2634 - val_tp: 4577405.5000 - val_fp: 1458086.7500 - val_tn: 4380974.0000 - val_fn: 1202306.0000 - val_accuracy: 0.7710 - val_precision: 0.7584 - val_recall: 0.7920 - val_auc: 0.8386\n",
            "Epoch 42/100\n",
            "12500/12500 [==============================] - 3s 204us/step - loss: 0.1793 - tp: 4583179.0000 - fp: 1458644.1250 - tn: 4386700.0000 - fn: 1202748.6250 - accuracy: 0.7712 - precision: 0.7586 - recall: 0.7921 - auc: 0.8388 - val_loss: 0.2627 - val_tp: 4588923.0000 - val_fp: 1459197.3750 - val_tn: 4392428.5000 - val_fn: 1203223.7500 - val_accuracy: 0.7713 - val_precision: 0.7587 - val_recall: 0.7923 - val_auc: 0.8390\n",
            "Epoch 43/100\n",
            "12500/12500 [==============================] - 2s 185us/step - loss: 0.1772 - tp: 4594699.5000 - fp: 1459751.7500 - tn: 4398156.0000 - fn: 1203662.8750 - accuracy: 0.7715 - precision: 0.7589 - recall: 0.7924 - auc: 0.8392 - val_loss: 0.2621 - val_tp: 4600442.0000 - val_fp: 1460299.7500 - val_tn: 4403891.0000 - val_fn: 1204140.0000 - val_accuracy: 0.7717 - val_precision: 0.7591 - val_recall: 0.7926 - val_auc: 0.8394\n",
            "Epoch 44/100\n",
            "12500/12500 [==============================] - 2s 177us/step - loss: 0.1752 - tp: 4606225.0000 - fp: 1460858.6250 - tn: 4409610.5000 - fn: 1204579.0000 - accuracy: 0.7718 - precision: 0.7592 - recall: 0.7927 - auc: 0.8396 - val_loss: 0.2615 - val_tp: 4611963.5000 - val_fp: 1461406.2500 - val_tn: 4415349.5000 - val_fn: 1205052.5000 - val_accuracy: 0.7720 - val_precision: 0.7594 - val_recall: 0.7928 - val_auc: 0.8398\n",
            "Epoch 45/100\n",
            "12500/12500 [==============================] - 2s 167us/step - loss: 0.1733 - tp: 4617768.5000 - fp: 1461952.3750 - tn: 4421063.5000 - fn: 1205487.3750 - accuracy: 0.7721 - precision: 0.7595 - recall: 0.7930 - auc: 0.8400 - val_loss: 0.2610 - val_tp: 4623482.0000 - val_fp: 1462501.1250 - val_tn: 4426819.0000 - val_fn: 1205970.0000 - val_accuracy: 0.7723 - val_precision: 0.7597 - val_recall: 0.7931 - val_auc: 0.8402\n",
            "Epoch 46/100\n",
            "12500/12500 [==============================] - 2s 190us/step - loss: 0.1714 - tp: 4629265.5000 - fp: 1463046.5000 - tn: 4432545.5000 - fn: 1206414.8750 - accuracy: 0.7724 - precision: 0.7599 - recall: 0.7933 - auc: 0.8404 - val_loss: 0.2605 - val_tp: 4634999.5000 - val_fp: 1463586.3750 - val_tn: 4438300.0000 - val_fn: 1206887.1250 - val_accuracy: 0.7726 - val_precision: 0.7600 - val_recall: 0.7934 - val_auc: 0.8406\n",
            "Epoch 47/100\n",
            "12500/12500 [==============================] - 2s 162us/step - loss: 0.1696 - tp: 4640828.0000 - fp: 1464116.2500 - tn: 4443996.5000 - fn: 1207330.5000 - accuracy: 0.7728 - precision: 0.7602 - recall: 0.7936 - auc: 0.8408 - val_loss: 0.2601 - val_tp: 4646510.0000 - val_fp: 1464643.6250 - val_tn: 4449805.0000 - val_fn: 1207810.1250 - val_accuracy: 0.7729 - val_precision: 0.7603 - val_recall: 0.7937 - val_auc: 0.8410\n",
            "Epoch 48/100\n",
            "12500/12500 [==============================] - 2s 187us/step - loss: 0.1679 - tp: 4652261.5000 - fp: 1465161.6250 - tn: 4455579.0000 - fn: 1208269.3750 - accuracy: 0.7731 - precision: 0.7605 - recall: 0.7938 - auc: 0.8412 - val_loss: 0.2597 - val_tp: 4658008.0000 - val_fp: 1465687.6250 - val_tn: 4461327.5000 - val_fn: 1208747.5000 - val_accuracy: 0.7732 - val_precision: 0.7607 - val_recall: 0.7940 - val_auc: 0.8414\n",
            "Epoch 49/100\n",
            "12500/12500 [==============================] - 2s 166us/step - loss: 0.1662 - tp: 4663792.0000 - fp: 1466202.0000 - tn: 4467085.5000 - fn: 1209192.3750 - accuracy: 0.7734 - precision: 0.7608 - recall: 0.7941 - auc: 0.8416 - val_loss: 0.2593 - val_tp: 4669517.5000 - val_fp: 1466735.2500 - val_tn: 4472845.0000 - val_fn: 1209673.3750 - val_accuracy: 0.7735 - val_precision: 0.7610 - val_recall: 0.7942 - val_auc: 0.8418\n",
            "Epoch 50/100\n",
            "12500/12500 [==============================] - 2s 177us/step - loss: 0.1645 - tp: 4675283.0000 - fp: 1467246.5000 - tn: 4478620.5000 - fn: 1210122.6250 - accuracy: 0.7737 - precision: 0.7611 - recall: 0.7944 - auc: 0.8420 - val_loss: 0.2590 - val_tp: 4681026.5000 - val_fp: 1467774.3750 - val_tn: 4484370.5000 - val_fn: 1210599.8750 - val_accuracy: 0.7739 - val_precision: 0.7613 - val_recall: 0.7945 - val_auc: 0.8422\n",
            "Epoch 51/100\n",
            "12500/12500 [==============================] - 2s 181us/step - loss: 0.1628 - tp: 4686785.0000 - fp: 1468293.3750 - tn: 4490152.5000 - fn: 1211039.1250 - accuracy: 0.7740 - precision: 0.7615 - recall: 0.7947 - auc: 0.8424 - val_loss: 0.2589 - val_tp: 4692558.0000 - val_fp: 1468823.3750 - val_tn: 4495887.5000 - val_fn: 1211503.5000 - val_accuracy: 0.7742 - val_precision: 0.7616 - val_recall: 0.7948 - val_auc: 0.8426\n",
            "Epoch 52/100\n",
            "12500/12500 [==============================] - 2s 155us/step - loss: 0.1612 - tp: 4698395.0000 - fp: 1469362.3750 - tn: 4501586.0000 - fn: 1211926.6250 - accuracy: 0.7743 - precision: 0.7618 - recall: 0.7949 - auc: 0.8428 - val_loss: 0.2584 - val_tp: 4704097.0000 - val_fp: 1469884.7500 - val_tn: 4507390.0000 - val_fn: 1212397.8750 - val_accuracy: 0.7745 - val_precision: 0.7619 - val_recall: 0.7951 - val_auc: 0.8430\n",
            "Epoch 53/100\n",
            "12500/12500 [==============================] - 3s 206us/step - loss: 0.1597 - tp: 4709908.0000 - fp: 1470386.6250 - tn: 4513139.0000 - fn: 1212838.2500 - accuracy: 0.7746 - precision: 0.7621 - recall: 0.7952 - auc: 0.8432 - val_loss: 0.2581 - val_tp: 4715615.0000 - val_fp: 1470904.7500 - val_tn: 4518937.0000 - val_fn: 1213317.1250 - val_accuracy: 0.7748 - val_precision: 0.7622 - val_recall: 0.7954 - val_auc: 0.8434\n",
            "Epoch 54/100\n",
            "12500/12500 [==============================] - 2s 163us/step - loss: 0.1582 - tp: 4721409.5000 - fp: 1471402.2500 - tn: 4524699.0000 - fn: 1213758.8750 - accuracy: 0.7749 - precision: 0.7624 - recall: 0.7955 - auc: 0.8436 - val_loss: 0.2579 - val_tp: 4727137.5000 - val_fp: 1471925.3750 - val_tn: 4530480.5000 - val_fn: 1214228.7500 - val_accuracy: 0.7751 - val_precision: 0.7626 - val_recall: 0.7956 - val_auc: 0.8438\n",
            "Epoch 55/100\n",
            "12500/12500 [==============================] - 3s 214us/step - loss: 0.1567 - tp: 4732975.0000 - fp: 1472431.5000 - tn: 4536198.0000 - fn: 1214667.6250 - accuracy: 0.7753 - precision: 0.7627 - recall: 0.7958 - auc: 0.8440 - val_loss: 0.2577 - val_tp: 4738661.0000 - val_fp: 1472943.5000 - val_tn: 4542027.5000 - val_fn: 1215140.3750 - val_accuracy: 0.7754 - val_precision: 0.7629 - val_recall: 0.7959 - val_auc: 0.8442\n",
            "Epoch 56/100\n",
            "12500/12500 [==============================] - 2s 162us/step - loss: 0.1552 - tp: 4744450.0000 - fp: 1473447.5000 - tn: 4547789.5000 - fn: 1215585.1250 - accuracy: 0.7756 - precision: 0.7630 - recall: 0.7960 - auc: 0.8444 - val_loss: 0.2576 - val_tp: 4750189.5000 - val_fp: 1473957.7500 - val_tn: 4553578.0000 - val_fn: 1216046.8750 - val_accuracy: 0.7757 - val_precision: 0.7632 - val_recall: 0.7962 - val_auc: 0.8446\n",
            "Epoch 57/100\n",
            "12500/12500 [==============================] - 2s 172us/step - loss: 0.1538 - tp: 4755988.5000 - fp: 1474469.0000 - tn: 4559338.5000 - fn: 1216474.6250 - accuracy: 0.7759 - precision: 0.7633 - recall: 0.7963 - auc: 0.8448 - val_loss: 0.2574 - val_tp: 4761727.5000 - val_fp: 1474979.3750 - val_tn: 4565120.5000 - val_fn: 1216943.6250 - val_accuracy: 0.7760 - val_precision: 0.7635 - val_recall: 0.7965 - val_auc: 0.8449\n"
          ],
          "name": "stdout"
        },
        {
          "output_type": "stream",
          "text": [
            "Epoch 58/100\n",
            "12500/12500 [==============================] - 2s 158us/step - loss: 0.1524 - tp: 4767518.0000 - fp: 1475486.6250 - tn: 4570889.0000 - fn: 1217378.5000 - accuracy: 0.7762 - precision: 0.7637 - recall: 0.7966 - auc: 0.8451 - val_loss: 0.2574 - val_tp: 4773264.5000 - val_fp: 1475991.6250 - val_tn: 4576673.5000 - val_fn: 1217841.2500 - val_accuracy: 0.7763 - val_precision: 0.7638 - val_recall: 0.7967 - val_auc: 0.8453\n",
            "Epoch 59/100\n",
            "12500/12500 [==============================] - 2s 173us/step - loss: 0.1511 - tp: 4779057.0000 - fp: 1476499.7500 - tn: 4582444.5000 - fn: 1218269.8750 - accuracy: 0.7765 - precision: 0.7640 - recall: 0.7969 - auc: 0.8455 - val_loss: 0.2573 - val_tp: 4784807.0000 - val_fp: 1477012.2500 - val_tn: 4588218.5000 - val_fn: 1218733.0000 - val_accuracy: 0.7766 - val_precision: 0.7641 - val_recall: 0.7970 - val_auc: 0.8457\n",
            "Epoch 60/100\n",
            "12500/12500 [==============================] - 2s 190us/step - loss: 0.1498 - tp: 4790590.5000 - fp: 1477517.3750 - tn: 4593996.0000 - fn: 1219166.5000 - accuracy: 0.7768 - precision: 0.7643 - recall: 0.7971 - auc: 0.8459 - val_loss: 0.2572 - val_tp: 4796351.5000 - val_fp: 1478024.6250 - val_tn: 4599770.5000 - val_fn: 1219625.0000 - val_accuracy: 0.7769 - val_precision: 0.7644 - val_recall: 0.7973 - val_auc: 0.8461\n",
            "Epoch 61/100\n",
            "12500/12500 [==============================] - 2s 162us/step - loss: 0.1485 - tp: 4802132.5000 - fp: 1478529.5000 - tn: 4605550.5000 - fn: 1220058.8750 - accuracy: 0.7771 - precision: 0.7646 - recall: 0.7974 - auc: 0.8463 - val_loss: 0.2571 - val_tp: 4807892.0000 - val_fp: 1479030.1250 - val_tn: 4611329.5000 - val_fn: 1220519.2500 - val_accuracy: 0.7772 - val_precision: 0.7647 - val_recall: 0.7975 - val_auc: 0.8465\n",
            "Epoch 62/100\n",
            "12500/12500 [==============================] - 2s 189us/step - loss: 0.1472 - tp: 4813716.0000 - fp: 1479534.0000 - tn: 4617072.5000 - fn: 1220950.5000 - accuracy: 0.7774 - precision: 0.7649 - recall: 0.7977 - auc: 0.8467 - val_loss: 0.2571 - val_tp: 4819440.5000 - val_fp: 1480040.2500 - val_tn: 4622885.5000 - val_fn: 1221407.6250 - val_accuracy: 0.7775 - val_precision: 0.7651 - val_recall: 0.7978 - val_auc: 0.8468\n",
            "Epoch 63/100\n",
            "12500/12500 [==============================] - 2s 161us/step - loss: 0.1460 - tp: 4825245.5000 - fp: 1480548.3750 - tn: 4628647.5000 - fn: 1221831.8750 - accuracy: 0.7777 - precision: 0.7652 - recall: 0.7979 - auc: 0.8470 - val_loss: 0.2570 - val_tp: 4830992.5000 - val_fp: 1481057.3750 - val_tn: 4634434.5000 - val_fn: 1222288.3750 - val_accuracy: 0.7778 - val_precision: 0.7654 - val_recall: 0.7981 - val_auc: 0.8472\n",
            "Epoch 64/100\n",
            "12500/12500 [==============================] - 2s 184us/step - loss: 0.1448 - tp: 4836797.5000 - fp: 1481554.8750 - tn: 4640194.0000 - fn: 1222726.3750 - accuracy: 0.7780 - precision: 0.7655 - recall: 0.7982 - auc: 0.8474 - val_loss: 0.2572 - val_tp: 4842540.5000 - val_fp: 1482060.7500 - val_tn: 4645994.5000 - val_fn: 1223175.7500 - val_accuracy: 0.7781 - val_precision: 0.7657 - val_recall: 0.7983 - val_auc: 0.8476\n",
            "Epoch 65/100\n",
            "12500/12500 [==============================] - 2s 187us/step - loss: 0.1436 - tp: 4848345.5000 - fp: 1482569.3750 - tn: 4651761.5000 - fn: 1223595.0000 - accuracy: 0.7783 - precision: 0.7658 - recall: 0.7985 - auc: 0.8478 - val_loss: 0.2571 - val_tp: 4854098.5000 - val_fp: 1483071.1250 - val_tn: 4657549.5000 - val_fn: 1224051.8750 - val_accuracy: 0.7784 - val_precision: 0.7660 - val_recall: 0.7986 - val_auc: 0.8480\n",
            "Epoch 66/100\n",
            "12500/12500 [==============================] - 3s 225us/step - loss: 0.1424 - tp: 4859912.5000 - fp: 1483566.5000 - tn: 4663319.5000 - fn: 1224472.0000 - accuracy: 0.7786 - precision: 0.7661 - recall: 0.7988 - auc: 0.8482 - val_loss: 0.2571 - val_tp: 4865651.0000 - val_fp: 1484072.3750 - val_tn: 4669113.5000 - val_fn: 1224936.5000 - val_accuracy: 0.7787 - val_precision: 0.7663 - val_recall: 0.7989 - val_auc: 0.8483\n",
            "Epoch 67/100\n",
            "12500/12500 [==============================] - 2s 154us/step - loss: 0.1413 - tp: 4871449.0000 - fp: 1484558.1250 - tn: 4674900.0000 - fn: 1225363.1250 - accuracy: 0.7789 - precision: 0.7664 - recall: 0.7990 - auc: 0.8485 - val_loss: 0.2572 - val_tp: 4877197.0000 - val_fp: 1485066.2500 - val_tn: 4680684.0000 - val_fn: 1225824.6250 - val_accuracy: 0.7790 - val_precision: 0.7666 - val_recall: 0.7991 - val_auc: 0.8487\n",
            "Epoch 68/100\n",
            "12500/12500 [==============================] - 2s 188us/step - loss: 0.1401 - tp: 4882997.5000 - fp: 1485571.6250 - tn: 4686457.0000 - fn: 1226248.1250 - accuracy: 0.7792 - precision: 0.7667 - recall: 0.7993 - auc: 0.8489 - val_loss: 0.2574 - val_tp: 4888759.5000 - val_fp: 1486076.1250 - val_tn: 4692240.0000 - val_fn: 1226696.5000 - val_accuracy: 0.7793 - val_precision: 0.7669 - val_recall: 0.7994 - val_auc: 0.8491\n",
            "Epoch 69/100\n",
            "12500/12500 [==============================] - 2s 172us/step - loss: 0.1391 - tp: 4894565.0000 - fp: 1486580.0000 - tn: 4698017.5000 - fn: 1227110.2500 - accuracy: 0.7795 - precision: 0.7670 - recall: 0.7995 - auc: 0.8493 - val_loss: 0.2573 - val_tp: 4900330.5000 - val_fp: 1487088.6250 - val_tn: 4703793.0000 - val_fn: 1227561.0000 - val_accuracy: 0.7796 - val_precision: 0.7672 - val_recall: 0.7997 - val_auc: 0.8494\n",
            "Epoch 70/100\n",
            "12500/12500 [==============================] - 2s 184us/step - loss: 0.1380 - tp: 4906133.0000 - fp: 1487585.2500 - tn: 4709576.0000 - fn: 1227978.2500 - accuracy: 0.7798 - precision: 0.7673 - recall: 0.7998 - auc: 0.8496 - val_loss: 0.2575 - val_tp: 4911893.0000 - val_fp: 1488090.3750 - val_tn: 4715355.5000 - val_fn: 1228432.8750 - val_accuracy: 0.7799 - val_precision: 0.7675 - val_recall: 0.7999 - val_auc: 0.8498\n",
            "Epoch 71/100\n",
            "12500/12500 [==============================] - 2s 172us/step - loss: 0.1370 - tp: 4917699.0000 - fp: 1488588.1250 - tn: 4721137.0000 - fn: 1228846.3750 - accuracy: 0.7801 - precision: 0.7676 - recall: 0.8001 - auc: 0.8500 - val_loss: 0.2576 - val_tp: 4923462.5000 - val_fp: 1489098.1250 - val_tn: 4726912.5000 - val_fn: 1229297.8750 - val_accuracy: 0.7802 - val_precision: 0.7678 - val_recall: 0.8002 - val_auc: 0.8502\n",
            "Epoch 72/100\n",
            "12500/12500 [==============================] - 3s 205us/step - loss: 0.1359 - tp: 4929259.5000 - fp: 1489589.3750 - tn: 4732704.0000 - fn: 1229719.6250 - accuracy: 0.7804 - precision: 0.7679 - recall: 0.8003 - auc: 0.8504 - val_loss: 0.2576 - val_tp: 4935029.0000 - val_fp: 1490094.0000 - val_tn: 4738481.5000 - val_fn: 1230168.8750 - val_accuracy: 0.7805 - val_precision: 0.7681 - val_recall: 0.8005 - val_auc: 0.8505\n",
            "Epoch 73/100\n",
            "12500/12500 [==============================] - 2s 171us/step - loss: 0.1349 - tp: 4940851.5000 - fp: 1490581.1250 - tn: 4744244.0000 - fn: 1230593.2500 - accuracy: 0.7807 - precision: 0.7682 - recall: 0.8006 - auc: 0.8507 - val_loss: 0.2577 - val_tp: 4946585.0000 - val_fp: 1491073.0000 - val_tn: 4750069.0000 - val_fn: 1231046.5000 - val_accuracy: 0.7808 - val_precision: 0.7684 - val_recall: 0.8007 - val_auc: 0.8509\n",
            "Epoch 74/100\n",
            "12500/12500 [==============================] - 3s 216us/step - loss: 0.1339 - tp: 4952358.0000 - fp: 1491548.6250 - tn: 4755894.0000 - fn: 1231471.0000 - accuracy: 0.7810 - precision: 0.7685 - recall: 0.8009 - auc: 0.8511 - val_loss: 0.2580 - val_tp: 4958142.5000 - val_fp: 1492053.8750 - val_tn: 4761651.5000 - val_fn: 1231922.6250 - val_accuracy: 0.7811 - val_precision: 0.7687 - val_recall: 0.8010 - val_auc: 0.8513\n",
            "Epoch 75/100\n",
            "12500/12500 [==============================] - 2s 173us/step - loss: 0.1329 - tp: 4963986.0000 - fp: 1492549.3750 - tn: 4767397.5000 - fn: 1232338.8750 - accuracy: 0.7812 - precision: 0.7688 - recall: 0.8011 - auc: 0.8514 - val_loss: 0.2580 - val_tp: 4969710.5000 - val_fp: 1493043.8750 - val_tn: 4773225.5000 - val_fn: 1232790.6250 - val_accuracy: 0.7814 - val_precision: 0.7690 - val_recall: 0.8012 - val_auc: 0.8516\n",
            "Epoch 76/100\n",
            "12500/12500 [==============================] - 3s 202us/step - loss: 0.1320 - tp: 4975497.0000 - fp: 1493523.3750 - tn: 4779037.5000 - fn: 1233212.6250 - accuracy: 0.7815 - precision: 0.7691 - recall: 0.8014 - auc: 0.8518 - val_loss: 0.2583 - val_tp: 4981272.0000 - val_fp: 1494028.7500 - val_tn: 4784807.0000 - val_fn: 1233663.8750 - val_accuracy: 0.7817 - val_precision: 0.7693 - val_recall: 0.8015 - val_auc: 0.8520\n"
          ],
          "name": "stdout"
        },
        {
          "output_type": "stream",
          "text": [
            "Epoch 77/100\n",
            "12500/12500 [==============================] - 2s 159us/step - loss: 0.1310 - tp: 4987081.5000 - fp: 1494522.0000 - tn: 4790590.5000 - fn: 1234079.2500 - accuracy: 0.7818 - precision: 0.7694 - recall: 0.8016 - auc: 0.8521 - val_loss: 0.2584 - val_tp: 4992854.0000 - val_fp: 1495022.6250 - val_tn: 4796378.0000 - val_fn: 1234516.5000 - val_accuracy: 0.7820 - val_precision: 0.7696 - val_recall: 0.8018 - val_auc: 0.8523\n",
            "Epoch 78/100\n",
            "12500/12500 [==============================] - 3s 219us/step - loss: 0.1301 - tp: 4998642.0000 - fp: 1495517.2500 - tn: 4802185.5000 - fn: 1234927.5000 - accuracy: 0.7821 - precision: 0.7697 - recall: 0.8019 - auc: 0.8525 - val_loss: 0.2586 - val_tp: 5004432.5000 - val_fp: 1496018.3750 - val_tn: 4807947.0000 - val_fn: 1235373.5000 - val_accuracy: 0.7823 - val_precision: 0.7699 - val_recall: 0.8020 - val_auc: 0.8527\n",
            "Epoch 79/100\n",
            "12500/12500 [==============================] - 2s 191us/step - loss: 0.1292 - tp: 5010216.5000 - fp: 1496512.0000 - tn: 4813760.0000 - fn: 1235782.8750 - accuracy: 0.7824 - precision: 0.7700 - recall: 0.8021 - auc: 0.8529 - val_loss: 0.2588 - val_tp: 5016018.0000 - val_fp: 1497015.5000 - val_tn: 4819515.5000 - val_fn: 1236223.1250 - val_accuracy: 0.7825 - val_precision: 0.7702 - val_recall: 0.8023 - val_auc: 0.8530\n",
            "Epoch 80/100\n",
            "12500/12500 [==============================] - 3s 202us/step - loss: 0.1283 - tp: 5021820.5000 - fp: 1497505.1250 - tn: 4825311.0000 - fn: 1236635.0000 - accuracy: 0.7827 - precision: 0.7703 - recall: 0.8024 - auc: 0.8532 - val_loss: 0.2589 - val_tp: 5027595.5000 - val_fp: 1497995.2500 - val_tn: 4831099.5000 - val_fn: 1237080.7500 - val_accuracy: 0.7828 - val_precision: 0.7704 - val_recall: 0.8025 - val_auc: 0.8534\n",
            "Epoch 81/100\n",
            "12500/12500 [==============================] - 3s 217us/step - loss: 0.1274 - tp: 5033399.5000 - fp: 1498470.0000 - tn: 4836891.5000 - fn: 1237509.0000 - accuracy: 0.7830 - precision: 0.7706 - recall: 0.8027 - auc: 0.8536 - val_loss: 0.2591 - val_tp: 5039161.5000 - val_fp: 1498961.8750 - val_tn: 4842698.5000 - val_fn: 1237949.5000 - val_accuracy: 0.7831 - val_precision: 0.7707 - val_recall: 0.8028 - val_auc: 0.8537\n",
            "Epoch 82/100\n",
            "12500/12500 [==============================] - 2s 176us/step - loss: 0.1265 - tp: 5044986.0000 - fp: 1499444.3750 - tn: 4848480.0000 - fn: 1238363.0000 - accuracy: 0.7833 - precision: 0.7709 - recall: 0.8029 - auc: 0.8539 - val_loss: 0.2593 - val_tp: 5050740.0000 - val_fp: 1499929.5000 - val_tn: 4854297.0000 - val_fn: 1238807.3750 - val_accuracy: 0.7834 - val_precision: 0.7710 - val_recall: 0.8030 - val_auc: 0.8541\n",
            "Epoch 83/100\n",
            "12500/12500 [==============================] - 2s 186us/step - loss: 0.1257 - tp: 5056542.5000 - fp: 1500412.6250 - tn: 4860098.0000 - fn: 1239221.5000 - accuracy: 0.7835 - precision: 0.7712 - recall: 0.8032 - auc: 0.8542 - val_loss: 0.2596 - val_tp: 5062322.0000 - val_fp: 1500903.2500 - val_tn: 4865887.0000 - val_fn: 1239659.2500 - val_accuracy: 0.7837 - val_precision: 0.7713 - val_recall: 0.8033 - val_auc: 0.8544\n",
            "Epoch 84/100\n",
            "12500/12500 [==============================] - 2s 176us/step - loss: 0.1248 - tp: 5068134.0000 - fp: 1501393.6250 - tn: 4871673.0000 - fn: 1240069.3750 - accuracy: 0.7838 - precision: 0.7715 - recall: 0.8034 - auc: 0.8546 - val_loss: 0.2598 - val_tp: 5073914.0000 - val_fp: 1501882.2500 - val_tn: 4877474.0000 - val_fn: 1240502.5000 - val_accuracy: 0.7840 - val_precision: 0.7716 - val_recall: 0.8035 - val_auc: 0.8548\n",
            "Epoch 85/100\n",
            "12500/12500 [==============================] - 2s 179us/step - loss: 0.1240 - tp: 5079727.0000 - fp: 1502360.2500 - tn: 4883271.5000 - fn: 1240911.7500 - accuracy: 0.7841 - precision: 0.7717 - recall: 0.8037 - auc: 0.8549 - val_loss: 0.2600 - val_tp: 5085494.5000 - val_fp: 1502843.6250 - val_tn: 4889078.0000 - val_fn: 1241355.7500 - val_accuracy: 0.7842 - val_precision: 0.7719 - val_recall: 0.8038 - val_auc: 0.8551\n",
            "Epoch 86/100\n",
            "12500/12500 [==============================] - 2s 175us/step - loss: 0.1231 - tp: 5091286.5000 - fp: 1503319.1250 - tn: 4894891.5000 - fn: 1241773.5000 - accuracy: 0.7844 - precision: 0.7720 - recall: 0.8039 - auc: 0.8553 - val_loss: 0.2602 - val_tp: 5097080.0000 - val_fp: 1503803.3750 - val_tn: 4900683.5000 - val_fn: 1242207.0000 - val_accuracy: 0.7845 - val_precision: 0.7722 - val_recall: 0.8040 - val_auc: 0.8554\n",
            "Epoch 87/100\n",
            "12500/12500 [==============================] - 2s 192us/step - loss: 0.1223 - tp: 5102899.5000 - fp: 1504276.1250 - tn: 4906475.5000 - fn: 1242619.8750 - accuracy: 0.7847 - precision: 0.7723 - recall: 0.8042 - auc: 0.8556 - val_loss: 0.2604 - val_tp: 5108662.5000 - val_fp: 1504758.3750 - val_tn: 4912291.5000 - val_fn: 1243058.3750 - val_accuracy: 0.7848 - val_precision: 0.7725 - val_recall: 0.8043 - val_auc: 0.8558\n",
            "Epoch 88/100\n",
            "12500/12500 [==============================] - 2s 159us/step - loss: 0.1215 - tp: 5114497.0000 - fp: 1505237.0000 - tn: 4918062.0000 - fn: 1243476.1250 - accuracy: 0.7849 - precision: 0.7726 - recall: 0.8044 - auc: 0.8559 - val_loss: 0.2607 - val_tp: 5120244.5000 - val_fp: 1505710.1250 - val_tn: 4923905.0000 - val_fn: 1243912.5000 - val_accuracy: 0.7851 - val_precision: 0.7728 - val_recall: 0.8045 - val_auc: 0.8561\n",
            "Epoch 89/100\n",
            "12500/12500 [==============================] - 3s 214us/step - loss: 0.1208 - tp: 5126074.5000 - fp: 1506185.3750 - tn: 4929695.0000 - fn: 1244319.1250 - accuracy: 0.7852 - precision: 0.7729 - recall: 0.8047 - auc: 0.8563 - val_loss: 0.2611 - val_tp: 5131830.5000 - val_fp: 1506666.5000 - val_tn: 4935515.0000 - val_fn: 1244761.0000 - val_accuracy: 0.7854 - val_precision: 0.7730 - val_recall: 0.8048 - val_auc: 0.8565\n",
            "Epoch 90/100\n",
            "12500/12500 [==============================] - 2s 181us/step - loss: 0.1200 - tp: 5137663.5000 - fp: 1507150.1250 - tn: 4941286.0000 - fn: 1245171.0000 - accuracy: 0.7855 - precision: 0.7732 - recall: 0.8049 - auc: 0.8566 - val_loss: 0.2612 - val_tp: 5143421.5000 - val_fp: 1507628.2500 - val_tn: 4947117.5000 - val_fn: 1245604.2500 - val_accuracy: 0.7856 - val_precision: 0.7733 - val_recall: 0.8050 - val_auc: 0.8568\n",
            "Epoch 91/100\n",
            "12500/12500 [==============================] - 2s 187us/step - loss: 0.1193 - tp: 5149261.5000 - fp: 1508094.3750 - tn: 4952901.0000 - fn: 1246016.1250 - accuracy: 0.7858 - precision: 0.7735 - recall: 0.8052 - auc: 0.8570 - val_loss: 0.2614 - val_tp: 5155002.5000 - val_fp: 1508573.1250 - val_tn: 4958738.0000 - val_fn: 1246458.7500 - val_accuracy: 0.7859 - val_precision: 0.7736 - val_recall: 0.8053 - val_auc: 0.8571\n",
            "Epoch 92/100\n",
            "12500/12500 [==============================] - 2s 171us/step - loss: 0.1185 - tp: 5160811.5000 - fp: 1509046.5000 - tn: 4964545.0000 - fn: 1246865.8750 - accuracy: 0.7861 - precision: 0.7738 - recall: 0.8054 - auc: 0.8573 - val_loss: 0.2620 - val_tp: 5166593.5000 - val_fp: 1509528.3750 - val_tn: 4970347.0000 - val_fn: 1247304.3750 - val_accuracy: 0.7862 - val_precision: 0.7739 - val_recall: 0.8055 - val_auc: 0.8575\n",
            "Epoch 93/100\n",
            "12500/12500 [==============================] - 3s 206us/step - loss: 0.1178 - tp: 5172392.0000 - fp: 1510016.5000 - tn: 4976162.0000 - fn: 1247701.6250 - accuracy: 0.7863 - precision: 0.7740 - recall: 0.8057 - auc: 0.8576 - val_loss: 0.2621 - val_tp: 5178191.5000 - val_fp: 1510497.5000 - val_tn: 4981943.5000 - val_fn: 1248139.1250 - val_accuracy: 0.7865 - val_precision: 0.7742 - val_recall: 0.8058 - val_auc: 0.8578\n",
            "Epoch 94/100\n",
            "12500/12500 [==============================] - 2s 168us/step - loss: 0.1171 - tp: 5184014.0000 - fp: 1510982.3750 - tn: 4987737.5000 - fn: 1248539.6250 - accuracy: 0.7866 - precision: 0.7743 - recall: 0.8059 - auc: 0.8579 - val_loss: 0.2624 - val_tp: 5189787.0000 - val_fp: 1511454.6250 - val_tn: 4993550.5000 - val_fn: 1248978.1250 - val_accuracy: 0.7867 - val_precision: 0.7745 - val_recall: 0.8060 - val_auc: 0.8581\n",
            "Epoch 95/100\n",
            "12500/12500 [==============================] - 3s 203us/step - loss: 0.1163 - tp: 5195612.5000 - fp: 1511932.3750 - tn: 4999348.0000 - fn: 1249382.5000 - accuracy: 0.7869 - precision: 0.7746 - recall: 0.8061 - auc: 0.8583 - val_loss: 0.2626 - val_tp: 5201376.5000 - val_fp: 1512405.6250 - val_tn: 5005164.5000 - val_fn: 1249824.3750 - val_accuracy: 0.7870 - val_precision: 0.7747 - val_recall: 0.8063 - val_auc: 0.8584\n"
          ],
          "name": "stdout"
        },
        {
          "output_type": "stream",
          "text": [
            "Epoch 96/100\n",
            "12500/12500 [==============================] - 2s 167us/step - loss: 0.1156 - tp: 5207202.0000 - fp: 1512879.7500 - tn: 5010957.0000 - fn: 1250231.2500 - accuracy: 0.7871 - precision: 0.7749 - recall: 0.8064 - auc: 0.8586 - val_loss: 0.2629 - val_tp: 5212966.0000 - val_fp: 1513352.0000 - val_tn: 5016783.0000 - val_fn: 1250669.0000 - val_accuracy: 0.7873 - val_precision: 0.7750 - val_recall: 0.8065 - val_auc: 0.8588\n",
            "Epoch 97/100\n",
            "12500/12500 [==============================] - 2s 189us/step - loss: 0.1150 - tp: 5218800.0000 - fp: 1513824.2500 - tn: 5022560.0000 - fn: 1251087.5000 - accuracy: 0.7874 - precision: 0.7752 - recall: 0.8066 - auc: 0.8589 - val_loss: 0.2632 - val_tp: 5224554.5000 - val_fp: 1514298.1250 - val_tn: 5028404.0000 - val_fn: 1251517.2500 - val_accuracy: 0.7876 - val_precision: 0.7753 - val_recall: 0.8067 - val_auc: 0.8591\n",
            "Epoch 98/100\n",
            "12500/12500 [==============================] - 2s 168us/step - loss: 0.1143 - tp: 5230378.5000 - fp: 1514766.7500 - tn: 5034204.5000 - fn: 1251924.5000 - accuracy: 0.7877 - precision: 0.7754 - recall: 0.8069 - auc: 0.8592 - val_loss: 0.2636 - val_tp: 5236146.0000 - val_fp: 1515240.6250 - val_tn: 5040026.0000 - val_fn: 1252359.3750 - val_accuracy: 0.7878 - val_precision: 0.7756 - val_recall: 0.8070 - val_auc: 0.8594\n",
            "Epoch 99/100\n",
            "12500/12500 [==============================] - 2s 199us/step - loss: 0.1136 - tp: 5241957.5000 - fp: 1515711.8750 - tn: 5045834.5000 - fn: 1252769.5000 - accuracy: 0.7880 - precision: 0.7757 - recall: 0.8071 - auc: 0.8596 - val_loss: 0.2638 - val_tp: 5247739.0000 - val_fp: 1516182.8750 - val_tn: 5051647.0000 - val_fn: 1253203.7500 - val_accuracy: 0.7881 - val_precision: 0.7758 - val_recall: 0.8072 - val_auc: 0.8597\n",
            "Epoch 100/100\n",
            "12500/12500 [==============================] - 2s 173us/step - loss: 0.1129 - tp: 5253560.5000 - fp: 1516649.8750 - tn: 5057452.5000 - fn: 1253607.6250 - accuracy: 0.7882 - precision: 0.7760 - recall: 0.8073 - auc: 0.8599 - val_loss: 0.2642 - val_tp: 5259330.0000 - val_fp: 1517126.3750 - val_tn: 5063269.0000 - val_fn: 1254046.8750 - val_accuracy: 0.7884 - val_precision: 0.7761 - val_recall: 0.8075 - val_auc: 0.8600\n"
          ],
          "name": "stdout"
        }
      ]
    },
    {
      "cell_type": "code",
      "metadata": {
        "id": "FnzXru1VexD8",
        "outputId": "7e2e3917-5550-4074-ccf2-a268ffd2b0a9"
      },
      "source": [
        "import matplotlib.pyplot as plt\n",
        "plt.plot(training_history.history[\"loss\"], label=\"training_loss\")\n",
        "plt.plot(training_history.history[\"val_loss\"], label=\"val_loss\")\n",
        "plt.legend()"
      ],
      "execution_count": null,
      "outputs": [
        {
          "output_type": "execute_result",
          "data": {
            "text/plain": [
              "<matplotlib.legend.Legend at 0x7f6ffb44e0b8>"
            ]
          },
          "metadata": {
            "tags": []
          },
          "execution_count": 278
        },
        {
          "output_type": "display_data",
          "data": {
            "image/png": "[encoded data removed]",
            "text/plain": [
              "<Figure size 432x288 with 1 Axes>"
            ]
          },
          "metadata": {
            "tags": [],
            "needs_background": "light"
          }
        }
      ]
    },
    {
      "cell_type": "code",
      "metadata": {
        "id": "XZtrSVs0exEA",
        "outputId": "5366462d-96f7-4bf4-8ef3-9c044dd4c952"
      },
      "source": [
        "predicted_labels = model.predict(X_test)\n",
        "print(\"AUC score\", roc_auc_score(y_test,predicted_labels))\n",
        "    #auc.append(roc_auc_score(np.rint(y_val),predicted_labels))\n",
        "print(\"F1 score\", f1_score(y_test,np.rint(predicted_labels)))\n"
      ],
      "execution_count": null,
      "outputs": [
        {
          "output_type": "stream",
          "text": [
            "AUC score 0.9582411876417138\n",
            "F1 score 0.8930638129211257\n"
          ],
          "name": "stdout"
        }
      ]
    },
    {
      "cell_type": "code",
      "metadata": {
        "id": "b3DOviABexEC",
        "outputId": "42bb1ba9-035c-45f8-a39a-b585d41ec17b"
      },
      "source": [
        "log_loss(y_test, predicted_labels)"
      ],
      "execution_count": null,
      "outputs": [
        {
          "output_type": "execute_result",
          "data": {
            "text/plain": [
              "0.26528621184342877"
            ]
          },
          "metadata": {
            "tags": []
          },
          "execution_count": 280
        }
      ]
    },
    {
      "cell_type": "code",
      "metadata": {
        "id": "kL8wrwcYexEE",
        "outputId": "c2dd902b-affb-4368-c370-9ef141d3cf22"
      },
      "source": [
        "-np.log(1/2)"
      ],
      "execution_count": null,
      "outputs": [
        {
          "output_type": "execute_result",
          "data": {
            "text/plain": [
              "0.6931471805599453"
            ]
          },
          "metadata": {
            "tags": []
          },
          "execution_count": 281
        }
      ]
    },
    {
      "cell_type": "code",
      "metadata": {
        "id": "R15sgNDBexEH"
      },
      "source": [
        "train_loss = []\n",
        "for i in range(0,X_train.shape[0]):\n",
        "    prediction = model.predict(X_train[i].reshape(1,10000))\n",
        "    train_loss.append((y_train.values[i] - prediction[0][0])**2)"
      ],
      "execution_count": null,
      "outputs": []
    },
    {
      "cell_type": "code",
      "metadata": {
        "id": "oPGNl6IXexEK",
        "outputId": "6ac8ae4c-0a88-4e87-acac-d1cdf20c7d1f"
      },
      "source": [
        "np.mean(train_loss)"
      ],
      "execution_count": null,
      "outputs": [
        {
          "output_type": "execute_result",
          "data": {
            "text/plain": [
              "0.02880609133498875"
            ]
          },
          "metadata": {
            "tags": []
          },
          "execution_count": 283
        }
      ]
    },
    {
      "cell_type": "code",
      "metadata": {
        "id": "Vbo-kcPtexEN",
        "outputId": "3b6af087-051b-4b2f-ab4d-34c65b492f7d"
      },
      "source": [
        "import matplotlib.pyplot as plt\n",
        "plt.scatter(np.arange(y_train.shape[0]),train_loss, label=\"train_loss\")\n",
        "plt.legend()"
      ],
      "execution_count": null,
      "outputs": [
        {
          "output_type": "execute_result",
          "data": {
            "text/plain": [
              "<matplotlib.legend.Legend at 0x7f6fb41e6518>"
            ]
          },
          "metadata": {
            "tags": []
          },
          "execution_count": 284
        },
        {
          "output_type": "display_data",
          "data": {
            "image/png": "[encoded data removed]",
            "text/plain": [
              "<Figure size 432x288 with 1 Axes>"
            ]
          },
          "metadata": {
            "tags": [],
            "needs_background": "light"
          }
        }
      ]
    },
    {
      "cell_type": "code",
      "metadata": {
        "id": "7f1iJFkTexEP"
      },
      "source": [
        "valid_loss = []\n",
        "for i in range(0,X_valid.shape[0]):\n",
        "    prediction = model.predict(X_valid[i].reshape(1,10000))\n",
        "    valid_loss.append((y_valid.values[i] - prediction[0][0])**2)"
      ],
      "execution_count": null,
      "outputs": []
    },
    {
      "cell_type": "code",
      "metadata": {
        "id": "q3U9G5onexES",
        "outputId": "e1cbf7dc-3ab7-4900-cfbe-8542563a02d9"
      },
      "source": [
        "np.mean(valid_loss)"
      ],
      "execution_count": null,
      "outputs": [
        {
          "output_type": "execute_result",
          "data": {
            "text/plain": [
              "0.07983643312673537"
            ]
          },
          "metadata": {
            "tags": []
          },
          "execution_count": 286
        }
      ]
    },
    {
      "cell_type": "code",
      "metadata": {
        "id": "0CNZCUjYexEU",
        "outputId": "df715a71-9b0f-452e-8ee8-ee123d7902f0"
      },
      "source": [
        "import matplotlib.pyplot as plt\n",
        "plt.scatter(np.arange(y_valid.shape[0]),valid_loss, label=\"valid_loss\")\n",
        "plt.legend()"
      ],
      "execution_count": null,
      "outputs": [
        {
          "output_type": "execute_result",
          "data": {
            "text/plain": [
              "<matplotlib.legend.Legend at 0x7f6fd7546c18>"
            ]
          },
          "metadata": {
            "tags": []
          },
          "execution_count": 287
        },
        {
          "output_type": "display_data",
          "data": {
            "image/png": "[encoded data removed]",
            "text/plain": [
              "<Figure size 432x288 with 1 Axes>"
            ]
          },
          "metadata": {
            "tags": [],
            "needs_background": "light"
          }
        }
      ]
    },
    {
      "cell_type": "code",
      "metadata": {
        "id": "Rnw3s2MCexEW"
      },
      "source": [
        "test_loss = []\n",
        "for i in range(0,X_test.shape[0]):\n",
        "    prediction = model.predict(X_test[i].reshape(1,10000))\n",
        "    test_loss.append((y_test.values[i]-prediction[0][0])**2)"
      ],
      "execution_count": null,
      "outputs": []
    },
    {
      "cell_type": "code",
      "metadata": {
        "id": "rFGjGuZFexEZ",
        "outputId": "f9e1833e-1a5e-4dc7-e6bf-ef34a9766da8"
      },
      "source": [
        "np.mean(test_loss)"
      ],
      "execution_count": null,
      "outputs": [
        {
          "output_type": "execute_result",
          "data": {
            "text/plain": [
              "0.07929209730817767"
            ]
          },
          "metadata": {
            "tags": []
          },
          "execution_count": 289
        }
      ]
    },
    {
      "cell_type": "code",
      "metadata": {
        "id": "-jjiWOMEexEd",
        "outputId": "60a0e14a-fb3e-439d-b85f-a7c94a1a83c4"
      },
      "source": [
        "import matplotlib.pyplot as plt\n",
        "plt.scatter(np.arange(y_test.shape[0]),test_loss, label=\"test_loss\")\n",
        "plt.legend()"
      ],
      "execution_count": null,
      "outputs": [
        {
          "output_type": "execute_result",
          "data": {
            "text/plain": [
              "<matplotlib.legend.Legend at 0x7f6fa747f208>"
            ]
          },
          "metadata": {
            "tags": []
          },
          "execution_count": 290
        },
        {
          "output_type": "display_data",
          "data": {
            "image/png": "[encoded data removed]",
            "text/plain": [
              "<Figure size 432x288 with 1 Axes>"
            ]
          },
          "metadata": {
            "tags": [],
            "needs_background": "light"
          }
        }
      ]
    },
    {
      "cell_type": "markdown",
      "metadata": {
        "id": "i6TQhS9hexEg"
      },
      "source": [
        "## Sklearn Logistic Regression model"
      ]
    },
    {
      "cell_type": "code",
      "metadata": {
        "id": "3cVUIIT9exEg"
      },
      "source": [
        "\n",
        "\n",
        "vectorizer = TfidfVectorizer(max_features=10000, ngram_range = (1,5))\n",
        "vectorizer = vectorizer.fit(data_df[\"data_text\"])"
      ],
      "execution_count": null,
      "outputs": []
    },
    {
      "cell_type": "code",
      "metadata": {
        "id": "bV_aRB58exEi"
      },
      "source": [
        "seed = 42\n",
        "\n",
        "X_train, X_test, y_train, y_test = train_test_split(data_df[\"data_text\"], data_df[\"label\"], test_size=0.5, random_state=seed)\n",
        "\n",
        "X_train, X_valid, y_train, y_valid = train_test_split(X_train, y_train, test_size=0.5, random_state=seed)\n",
        "\n",
        "X_train = vectorizer.transform(X_train)\n",
        "X_valid = vectorizer.transform(X_valid)\n",
        "X_test = vectorizer.transform(X_test)\n"
      ],
      "execution_count": null,
      "outputs": []
    },
    {
      "cell_type": "code",
      "metadata": {
        "id": "e03xIAQIexEm",
        "outputId": "8252e319-d37d-419f-8e72-207bf71e0214"
      },
      "source": [
        "X_train.shape"
      ],
      "execution_count": null,
      "outputs": [
        {
          "output_type": "execute_result",
          "data": {
            "text/plain": [
              "(12500, 10000)"
            ]
          },
          "metadata": {
            "tags": []
          },
          "execution_count": 201
        }
      ]
    },
    {
      "cell_type": "code",
      "metadata": {
        "id": "-SWC2Z4KexEq"
      },
      "source": [
        "#penalty{‘l1’, ‘l2’, ‘elasticnet’, ‘none’}, default=’l2’\n",
        "#max_iterint, default=100"
      ],
      "execution_count": null,
      "outputs": []
    },
    {
      "cell_type": "code",
      "metadata": {
        "id": "DKW60QRBexEs"
      },
      "source": [
        "sk_model = LogisticRegression() #(penalty=\"l1\", C=10, solver='liblinear')\n",
        "sk_model = sk_model.fit(X_train, y_train)"
      ],
      "execution_count": null,
      "outputs": []
    },
    {
      "cell_type": "code",
      "metadata": {
        "id": "xSyOtR9fexEu",
        "outputId": "c6611f27-8aae-43ae-f8dd-72095866504b"
      },
      "source": [
        "predicted_labels = sk_model.predict(X_test)\n",
        "print(\"AUC score\", roc_auc_score(y_test,predicted_labels))\n",
        "    #auc.append(roc_auc_score(np.rint(y_val),predicted_labels))\n",
        "print(\"F1 score\", f1_score(y_test,np.rint(predicted_labels)))\n"
      ],
      "execution_count": null,
      "outputs": [
        {
          "output_type": "stream",
          "text": [
            "AUC score 0.8825943933523962\n",
            "F1 score 0.8841872582300465\n"
          ],
          "name": "stdout"
        }
      ]
    },
    {
      "cell_type": "code",
      "metadata": {
        "id": "idh2460QexEw",
        "outputId": "fa20acf1-e159-4cd7-9a08-ff1e6215e7f1"
      },
      "source": [
        "predicted_prob = sk_model.predict_proba(X_test)\n",
        "log_loss(y_test, predicted_prob)"
      ],
      "execution_count": null,
      "outputs": [
        {
          "output_type": "execute_result",
          "data": {
            "text/plain": [
              "0.3385778629471389"
            ]
          },
          "metadata": {
            "tags": []
          },
          "execution_count": 276
        }
      ]
    },
    {
      "cell_type": "code",
      "metadata": {
        "id": "Jq9NRmnjexEy"
      },
      "source": [
        ""
      ],
      "execution_count": null,
      "outputs": []
    }
  ]
}